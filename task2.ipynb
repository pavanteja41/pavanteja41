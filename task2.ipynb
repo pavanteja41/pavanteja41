{
  "nbformat": 4,
  "nbformat_minor": 0,
  "metadata": {
    "colab": {
      "name": "task2.ipynb",
      "provenance": [],
      "collapsed_sections": [],
      "authorship_tag": "ABX9TyOO1qFRrzXa1JsiWtZci6Vf",
      "include_colab_link": true
    },
    "kernelspec": {
      "name": "python3",
      "display_name": "Python 3"
    },
    "language_info": {
      "name": "python"
    }
  },
  "cells": [
    {
      "cell_type": "markdown",
      "metadata": {
        "id": "view-in-github",
        "colab_type": "text"
      },
      "source": [
        "<a href=\"https://colab.research.google.com/github/pavanteja41/pavanteja41/blob/main/task2.ipynb\" target=\"_parent\"><img src=\"https://colab.research.google.com/assets/colab-badge.svg\" alt=\"Open In Colab\"/></a>"
      ]
    },
    {
      "cell_type": "code",
      "execution_count": 2,
      "metadata": {
        "id": "-TdR_du1pezV"
      },
      "outputs": [],
      "source": [
        "import numpy as np"
      ]
    },
    {
      "cell_type": "code",
      "source": [
        "print(np.version,np.show_config)"
      ],
      "metadata": {
        "colab": {
          "base_uri": "https://localhost:8080/"
        },
        "id": "0UnpCvpbpzSZ",
        "outputId": "b9d8c0b9-f63f-4957-85f0-a038a80286c1"
      },
      "execution_count": null,
      "outputs": [
        {
          "output_type": "stream",
          "name": "stdout",
          "text": [
            "<module 'numpy.version' from '/usr/local/lib/python3.7/dist-packages/numpy/version.py'> <function show at 0x7f08e6011c20>\n"
          ]
        }
      ]
    },
    {
      "cell_type": "code",
      "source": [
        "np.zeros(10)"
      ],
      "metadata": {
        "colab": {
          "base_uri": "https://localhost:8080/"
        },
        "id": "3c8Qi0HNp4WP",
        "outputId": "d3133e5c-15ea-40e6-9225-3c1050779752"
      },
      "execution_count": null,
      "outputs": [
        {
          "output_type": "execute_result",
          "data": {
            "text/plain": [
              "array([0., 0., 0., 0., 0., 0., 0., 0., 0., 0.])"
            ]
          },
          "metadata": {},
          "execution_count": 7
        }
      ]
    },
    {
      "cell_type": "code",
      "source": [
        "ls=[1,2,3,4]\n",
        "num=np.array(ls)\n",
        "print(num.size*num.itemsize)"
      ],
      "metadata": {
        "colab": {
          "base_uri": "https://localhost:8080/"
        },
        "id": "GR2CcEFcqoUU",
        "outputId": "3118087b-fd2f-4fcc-d47c-b28162ae4049"
      },
      "execution_count": null,
      "outputs": [
        {
          "output_type": "stream",
          "name": "stdout",
          "text": [
            "32\n"
          ]
        }
      ]
    },
    {
      "cell_type": "code",
      "source": [
        "print(np.info(np.add))"
      ],
      "metadata": {
        "colab": {
          "base_uri": "https://localhost:8080/"
        },
        "id": "6oswbzenr5oo",
        "outputId": "54c88ec8-4448-4f97-f421-3109f951bd75"
      },
      "execution_count": null,
      "outputs": [
        {
          "output_type": "stream",
          "name": "stdout",
          "text": [
            "add(x1, x2, /, out=None, *, where=True, casting='same_kind', order='K', dtype=None, subok=True[, signature, extobj])\n",
            "\n",
            "Add arguments element-wise.\n",
            "\n",
            "Parameters\n",
            "----------\n",
            "x1, x2 : array_like\n",
            "    The arrays to be added.\n",
            "    If ``x1.shape != x2.shape``, they must be broadcastable to a common\n",
            "    shape (which becomes the shape of the output).\n",
            "out : ndarray, None, or tuple of ndarray and None, optional\n",
            "    A location into which the result is stored. If provided, it must have\n",
            "    a shape that the inputs broadcast to. If not provided or None,\n",
            "    a freshly-allocated array is returned. A tuple (possible only as a\n",
            "    keyword argument) must have length equal to the number of outputs.\n",
            "where : array_like, optional\n",
            "    This condition is broadcast over the input. At locations where the\n",
            "    condition is True, the `out` array will be set to the ufunc result.\n",
            "    Elsewhere, the `out` array will retain its original value.\n",
            "    Note that if an uninitialized `out` array is created via the default\n",
            "    ``out=None``, locations within it where the condition is False will\n",
            "    remain uninitialized.\n",
            "**kwargs\n",
            "    For other keyword-only arguments, see the\n",
            "    :ref:`ufunc docs <ufuncs.kwargs>`.\n",
            "\n",
            "Returns\n",
            "-------\n",
            "add : ndarray or scalar\n",
            "    The sum of `x1` and `x2`, element-wise.\n",
            "    This is a scalar if both `x1` and `x2` are scalars.\n",
            "\n",
            "Notes\n",
            "-----\n",
            "Equivalent to `x1` + `x2` in terms of array broadcasting.\n",
            "\n",
            "Examples\n",
            "--------\n",
            ">>> np.add(1.0, 4.0)\n",
            "5.0\n",
            ">>> x1 = np.arange(9.0).reshape((3, 3))\n",
            ">>> x2 = np.arange(3.0)\n",
            ">>> np.add(x1, x2)\n",
            "array([[  0.,   2.,   4.],\n",
            "       [  3.,   5.,   7.],\n",
            "       [  6.,   8.,  10.]])\n",
            "\n",
            "The ``+`` operator can be used as a shorthand for ``np.add`` on ndarrays.\n",
            "\n",
            ">>> x1 = np.arange(9.0).reshape((3, 3))\n",
            ">>> x2 = np.arange(3.0)\n",
            ">>> x1 + x2\n",
            "array([[ 0.,  2.,  4.],\n",
            "       [ 3.,  5.,  7.],\n",
            "       [ 6.,  8., 10.]])\n",
            "None\n"
          ]
        }
      ]
    },
    {
      "cell_type": "code",
      "source": [
        "num=np.zeros(10)\n",
        "num[4]=1"
      ],
      "metadata": {
        "colab": {
          "base_uri": "https://localhost:8080/"
        },
        "id": "MOsKlze3r8Rn",
        "outputId": "fb023123-3386-42a1-b27f-dfc0dc9e2575"
      },
      "execution_count": null,
      "outputs": [
        {
          "output_type": "stream",
          "name": "stdout",
          "text": [
            "[0. 0. 0. 0. 1. 0. 0. 0. 0. 0.]\n"
          ]
        }
      ]
    },
    {
      "cell_type": "code",
      "source": [
        "v=np.arange(10,49)"
      ],
      "metadata": {
        "id": "NdzyiJm3tCve"
      },
      "execution_count": null,
      "outputs": []
    },
    {
      "cell_type": "code",
      "source": [
        "v[::-1]"
      ],
      "metadata": {
        "colab": {
          "base_uri": "https://localhost:8080/"
        },
        "id": "r34I5Bp9tMH4",
        "outputId": "a49c3c98-d839-4c06-867d-fb52bbc3aa78"
      },
      "execution_count": null,
      "outputs": [
        {
          "output_type": "execute_result",
          "data": {
            "text/plain": [
              "array([48, 47, 46, 45, 44, 43, 42, 41, 40, 39, 38, 37, 36, 35, 34, 33, 32,\n",
              "       31, 30, 29, 28, 27, 26, 25, 24, 23, 22, 21, 20, 19, 18, 17, 16, 15,\n",
              "       14, 13, 12, 11, 10])"
            ]
          },
          "metadata": {},
          "execution_count": 21
        }
      ]
    },
    {
      "cell_type": "code",
      "source": [
        "mat=np.arange(0,9).reshape(3,3)"
      ],
      "metadata": {
        "id": "wvqsBxYItoRG"
      },
      "execution_count": null,
      "outputs": []
    },
    {
      "cell_type": "code",
      "source": [
        "given_array=[1,2,0,0,4,0]\n",
        "np.nonzero(given_array)"
      ],
      "metadata": {
        "colab": {
          "base_uri": "https://localhost:8080/"
        },
        "id": "G1QmZczut2pQ",
        "outputId": "d86dc008-e071-4d21-d0de-be02a81e1728"
      },
      "execution_count": null,
      "outputs": [
        {
          "output_type": "execute_result",
          "data": {
            "text/plain": [
              "(array([0, 1, 4]),)"
            ]
          },
          "metadata": {},
          "execution_count": 26
        }
      ]
    },
    {
      "cell_type": "code",
      "source": [
        "np.eye(3)"
      ],
      "metadata": {
        "colab": {
          "base_uri": "https://localhost:8080/"
        },
        "id": "roO-PE9hxChM",
        "outputId": "324926b5-ba60-469e-845b-0718af9340be"
      },
      "execution_count": null,
      "outputs": [
        {
          "output_type": "execute_result",
          "data": {
            "text/plain": [
              "array([[1., 0., 0.],\n",
              "       [0., 1., 0.],\n",
              "       [0., 0., 1.]])"
            ]
          },
          "metadata": {},
          "execution_count": 30
        }
      ]
    },
    {
      "cell_type": "code",
      "source": [
        "np.random.random((3,3,3))"
      ],
      "metadata": {
        "colab": {
          "base_uri": "https://localhost:8080/"
        },
        "id": "4QldThlJxt6g",
        "outputId": "b573d1c2-1e6a-48d4-de61-a433ce763940"
      },
      "execution_count": null,
      "outputs": [
        {
          "output_type": "execute_result",
          "data": {
            "text/plain": [
              "array([[[0.32862301, 0.68562333, 0.57898669],\n",
              "        [0.40993266, 0.40255704, 0.95075276],\n",
              "        [0.30823842, 0.46795218, 0.6422246 ]],\n",
              "\n",
              "       [[0.50167361, 0.9624808 , 0.05635718],\n",
              "        [0.06737799, 0.23979527, 0.36679671],\n",
              "        [0.8722733 , 0.94918909, 0.60550234]],\n",
              "\n",
              "       [[0.24561661, 0.17414731, 0.33815024],\n",
              "        [0.1271672 , 0.42543256, 0.26148113],\n",
              "        [0.68619255, 0.08607292, 0.36408076]]])"
            ]
          },
          "metadata": {},
          "execution_count": 32
        }
      ]
    },
    {
      "cell_type": "code",
      "source": [
        "x=np.random.random((10,10))\n",
        "print(x)\n",
        "print(x.min(),x.max())"
      ],
      "metadata": {
        "colab": {
          "base_uri": "https://localhost:8080/"
        },
        "id": "z5X3jamhyn88",
        "outputId": "15acc164-5c76-49cb-eff2-c061e6048964"
      },
      "execution_count": null,
      "outputs": [
        {
          "output_type": "stream",
          "name": "stdout",
          "text": [
            "[[0.45072718 0.77885861 0.03112811 0.19066478 0.00737625 0.31670121\n",
            "  0.28675891 0.3547956  0.19201212 0.37539047]\n",
            " [0.52179954 0.91099258 0.82123321 0.28324566 0.15355499 0.22828525\n",
            "  0.49025663 0.62126212 0.3750017  0.26901205]\n",
            " [0.15636722 0.17163009 0.52806226 0.99120988 0.90036342 0.04434636\n",
            "  0.22304735 0.40828094 0.02520007 0.58600761]\n",
            " [0.85809232 0.70085748 0.65837202 0.37698935 0.00968262 0.46034843\n",
            "  0.61468252 0.41059049 0.19589836 0.93552334]\n",
            " [0.24916827 0.66767521 0.06402965 0.07591495 0.01240214 0.68073158\n",
            "  0.75033905 0.12394985 0.17172693 0.98541398]\n",
            " [0.289483   0.20986948 0.57105325 0.37401542 0.33935436 0.44070334\n",
            "  0.20186445 0.1570095  0.59434307 0.30726848]\n",
            " [0.49997496 0.08419178 0.61425493 0.10763262 0.84515839 0.6193067\n",
            "  0.83477682 0.58099903 0.24121829 0.30807396]\n",
            " [0.32943238 0.17609569 0.08044209 0.20154189 0.98301989 0.98951874\n",
            "  0.53234835 0.36625004 0.05820735 0.69021063]\n",
            " [0.2716578  0.39680313 0.72838422 0.7672284  0.52186721 0.26591136\n",
            "  0.73158145 0.58387599 0.02796822 0.42380386]\n",
            " [0.17224369 0.89697575 0.64704708 0.55432133 0.2156108  0.87625835\n",
            "  0.05606984 0.65782609 0.52713749 0.07925718]]\n",
            "0.007376245295485306 0.9912098840106495\n"
          ]
        }
      ]
    },
    {
      "cell_type": "code",
      "source": [
        "x=np.random.random(30)\n",
        "x.mean()"
      ],
      "metadata": {
        "colab": {
          "base_uri": "https://localhost:8080/"
        },
        "id": "j3OL8AeW0uer",
        "outputId": "49246523-b33d-418b-a1e8-06fcea79048d"
      },
      "execution_count": null,
      "outputs": [
        {
          "output_type": "execute_result",
          "data": {
            "text/plain": [
              "0.42206603780311125"
            ]
          },
          "metadata": {},
          "execution_count": 40
        }
      ]
    },
    {
      "cell_type": "code",
      "source": [
        "x=np.ones((5,5))\n",
        "x[1:-1,1:-1]=0\n",
        "x"
      ],
      "metadata": {
        "colab": {
          "base_uri": "https://localhost:8080/"
        },
        "id": "ts61tsBA1RSp",
        "outputId": "ab6a90e8-e03d-4ba3-b255-2a7fb7f36124"
      },
      "execution_count": null,
      "outputs": [
        {
          "output_type": "execute_result",
          "data": {
            "text/plain": [
              "array([[1., 1., 1., 1., 1.],\n",
              "       [1., 0., 0., 0., 1.],\n",
              "       [1., 0., 0., 0., 1.],\n",
              "       [1., 0., 0., 0., 1.],\n",
              "       [1., 1., 1., 1., 1.]])"
            ]
          },
          "metadata": {},
          "execution_count": 43
        }
      ]
    },
    {
      "cell_type": "code",
      "source": [
        "x\n",
        "np.pad(x,1,'constant',constant_values=0)"
      ],
      "metadata": {
        "colab": {
          "base_uri": "https://localhost:8080/"
        },
        "id": "UAmmfvaF2Qw-",
        "outputId": "d1336232-7f25-4ffe-b47d-6c91546ae151"
      },
      "execution_count": null,
      "outputs": [
        {
          "output_type": "execute_result",
          "data": {
            "text/plain": [
              "array([[0., 0., 0., 0., 0., 0., 0.],\n",
              "       [0., 1., 1., 1., 1., 1., 0.],\n",
              "       [0., 1., 0., 0., 0., 1., 0.],\n",
              "       [0., 1., 0., 0., 0., 1., 0.],\n",
              "       [0., 1., 0., 0., 0., 1., 0.],\n",
              "       [0., 1., 1., 1., 1., 1., 0.],\n",
              "       [0., 0., 0., 0., 0., 0., 0.]])"
            ]
          },
          "metadata": {},
          "execution_count": 47
        }
      ]
    },
    {
      "cell_type": "code",
      "source": [
        "0 * np.nan\n",
        "np.nan == np.nan\n",
        "np.inf > np.nan\n",
        "np.nan - np.nan\n",
        "0.3 == 3 * 0.1"
      ],
      "metadata": {
        "colab": {
          "base_uri": "https://localhost:8080/"
        },
        "id": "mFcVfg621OkT",
        "outputId": "bd14cfae-8fbc-4c12-f750-14ac125c382a"
      },
      "execution_count": null,
      "outputs": [
        {
          "output_type": "execute_result",
          "data": {
            "text/plain": [
              "False"
            ]
          },
          "metadata": {},
          "execution_count": 41
        }
      ]
    },
    {
      "cell_type": "code",
      "source": [
        "Z = np.diag(1+np.arange(4),k=-1)\n",
        "print(Z)"
      ],
      "metadata": {
        "colab": {
          "base_uri": "https://localhost:8080/"
        },
        "id": "SrBhzVBh5DOB",
        "outputId": "76f80863-534e-48d9-915a-069f2431861e"
      },
      "execution_count": null,
      "outputs": [
        {
          "output_type": "stream",
          "name": "stdout",
          "text": [
            "[[0 0 0 0 0]\n",
            " [1 0 0 0 0]\n",
            " [0 2 0 0 0]\n",
            " [0 0 3 0 0]\n",
            " [0 0 0 4 0]]\n"
          ]
        }
      ]
    },
    {
      "cell_type": "code",
      "source": [
        "Z = np.zeros((8,8),dtype=int)\n",
        "Z[1::2,::2] = 1\n",
        "Z[::2,1::2] = 1\n",
        "print(Z)"
      ],
      "metadata": {
        "colab": {
          "base_uri": "https://localhost:8080/"
        },
        "id": "_F04IMESEwiF",
        "outputId": "cc3dbfea-1477-4d4c-bee4-7f58b8f5ec2d"
      },
      "execution_count": null,
      "outputs": [
        {
          "output_type": "stream",
          "name": "stdout",
          "text": [
            "[[0 1 0 1 0 1 0 1]\n",
            " [1 0 1 0 1 0 1 0]\n",
            " [0 1 0 1 0 1 0 1]\n",
            " [1 0 1 0 1 0 1 0]\n",
            " [0 1 0 1 0 1 0 1]\n",
            " [1 0 1 0 1 0 1 0]\n",
            " [0 1 0 1 0 1 0 1]\n",
            " [1 0 1 0 1 0 1 0]]\n"
          ]
        }
      ]
    },
    {
      "cell_type": "code",
      "source": [
        "print(np.unravel_index(100,(6,7,8)))"
      ],
      "metadata": {
        "colab": {
          "base_uri": "https://localhost:8080/"
        },
        "id": "CZZ3H9EkE3Mg",
        "outputId": "51df9c94-b294-4cb1-8eea-750ceec3ad36"
      },
      "execution_count": null,
      "outputs": [
        {
          "output_type": "stream",
          "name": "stdout",
          "text": [
            "(1, 5, 4)\n"
          ]
        }
      ]
    },
    {
      "cell_type": "code",
      "source": [
        "arr = np.array([[0,1],\n",
        "               [1,0]])\n",
        "arr = np.tile(arr,(4,4))\n",
        "arr"
      ],
      "metadata": {
        "colab": {
          "base_uri": "https://localhost:8080/"
        },
        "id": "KJrw45btPVPW",
        "outputId": "adc855c4-36f0-4cea-a450-dbe49156a87e"
      },
      "execution_count": null,
      "outputs": [
        {
          "output_type": "execute_result",
          "data": {
            "text/plain": [
              "array([[0, 1, 0, 1, 0, 1, 0, 1],\n",
              "       [1, 0, 1, 0, 1, 0, 1, 0],\n",
              "       [0, 1, 0, 1, 0, 1, 0, 1],\n",
              "       [1, 0, 1, 0, 1, 0, 1, 0],\n",
              "       [0, 1, 0, 1, 0, 1, 0, 1],\n",
              "       [1, 0, 1, 0, 1, 0, 1, 0],\n",
              "       [0, 1, 0, 1, 0, 1, 0, 1],\n",
              "       [1, 0, 1, 0, 1, 0, 1, 0]])"
            ]
          },
          "metadata": {},
          "execution_count": 62
        }
      ]
    },
    {
      "cell_type": "code",
      "source": [
        "Z = np.tile( np.array([[0,1],[1,0]]), (4,4))\n",
        "print(Z)"
      ],
      "metadata": {
        "colab": {
          "base_uri": "https://localhost:8080/"
        },
        "id": "4z8EpneIE91Z",
        "outputId": "196f4339-f042-475b-cc45-9bd5469dfb2d"
      },
      "execution_count": null,
      "outputs": [
        {
          "output_type": "stream",
          "name": "stdout",
          "text": [
            "[[0 1 0 1 0 1 0 1]\n",
            " [1 0 1 0 1 0 1 0]\n",
            " [0 1 0 1 0 1 0 1]\n",
            " [1 0 1 0 1 0 1 0]\n",
            " [0 1 0 1 0 1 0 1]\n",
            " [1 0 1 0 1 0 1 0]\n",
            " [0 1 0 1 0 1 0 1]\n",
            " [1 0 1 0 1 0 1 0]]\n"
          ]
        }
      ]
    },
    {
      "cell_type": "code",
      "source": [
        "np.random.random((5,5))\n",
        "xmin,xmax=x.min(),x.max()\n",
        "x=(x-xmin)/(xmax-xmin)\n",
        "x"
      ],
      "metadata": {
        "colab": {
          "base_uri": "https://localhost:8080/"
        },
        "id": "mLRDI1QNFCg1",
        "outputId": "e7ee6ceb-bb83-4984-8271-4d9f30deec44"
      },
      "execution_count": null,
      "outputs": [
        {
          "output_type": "execute_result",
          "data": {
            "text/plain": [
              "array([[0.82712591, 0.92846117, 0.89362598, 0.54480057, 0.97770125],\n",
              "       [0.82503693, 0.44720232, 0.00973781, 0.18123154, 0.98733005],\n",
              "       [1.        , 0.97937937, 0.74113671, 0.41546781, 0.9234842 ],\n",
              "       [0.33626571, 0.06031344, 0.06496532, 0.        , 0.83207266],\n",
              "       [0.47401504, 0.48725966, 0.47785349, 0.25918796, 0.59983541]])"
            ]
          },
          "metadata": {},
          "execution_count": 61
        }
      ]
    },
    {
      "cell_type": "code",
      "source": [
        "RGBA = np.dtype([('red',np.uint8),('green',np.uint8),('blue',np.uint8),('alpha',np.uint8)])\n",
        "color = np.array((1,2,4,3),dtype = RGBA)\n",
        "print(color['red'])\n",
        "type(color)"
      ],
      "metadata": {
        "colab": {
          "base_uri": "https://localhost:8080/"
        },
        "id": "9u3dTw8FGbaw",
        "outputId": "bb8b0b21-786d-40c6-e8e4-fba3b5ea85f1"
      },
      "execution_count": null,
      "outputs": [
        {
          "output_type": "stream",
          "name": "stdout",
          "text": [
            "1\n"
          ]
        },
        {
          "output_type": "execute_result",
          "data": {
            "text/plain": [
              "numpy.ndarray"
            ]
          },
          "metadata": {},
          "execution_count": 63
        }
      ]
    },
    {
      "cell_type": "code",
      "source": [
        "arr_1 = np.random.random((5,3))\n",
        "arr_2 = np.random.random((3,2))\n",
        "print(arr_1 @ arr_2)\n",
        "np.dot(arr_1,arr_2)"
      ],
      "metadata": {
        "colab": {
          "base_uri": "https://localhost:8080/"
        },
        "id": "1vDCPN7mPlR-",
        "outputId": "1980259d-55fe-4a3d-e9fb-db082c67da7a"
      },
      "execution_count": null,
      "outputs": [
        {
          "output_type": "stream",
          "name": "stdout",
          "text": [
            "[[1.76475595 0.90312668]\n",
            " [0.90650096 0.56914959]\n",
            " [1.90445406 1.08773022]\n",
            " [1.13154497 0.70815922]\n",
            " [1.25300183 0.7082832 ]]\n"
          ]
        },
        {
          "output_type": "execute_result",
          "data": {
            "text/plain": [
              "array([[1.76475595, 0.90312668],\n",
              "       [0.90650096, 0.56914959],\n",
              "       [1.90445406, 1.08773022],\n",
              "       [1.13154497, 0.70815922],\n",
              "       [1.25300183, 0.7082832 ]])"
            ]
          },
          "metadata": {},
          "execution_count": 64
        }
      ]
    },
    {
      "cell_type": "code",
      "source": [
        "arr = np.arange(16)\n",
        "print(arr>=3)\n",
        "arr[(arr>=3) & (arr<=8)]*=(-1)\n",
        "print(arr)"
      ],
      "metadata": {
        "colab": {
          "base_uri": "https://localhost:8080/"
        },
        "id": "i0E56QuWPqHw",
        "outputId": "25539087-653d-44cb-c3ab-651e2e5c7b5f"
      },
      "execution_count": null,
      "outputs": [
        {
          "output_type": "stream",
          "name": "stdout",
          "text": [
            "[False False False  True  True  True  True  True  True  True  True  True\n",
            "  True  True  True  True]\n",
            "[ 0  1  2 -3 -4 -5 -6 -7 -8  9 10 11 12 13 14 15]\n"
          ]
        }
      ]
    },
    {
      "cell_type": "code",
      "source": [
        "print(sum(range(5),-1))\n",
        "from numpy import *\n",
        "print(sum(range(5),-1))"
      ],
      "metadata": {
        "colab": {
          "base_uri": "https://localhost:8080/"
        },
        "id": "DKwVAc9NQBNE",
        "outputId": "e5ed804d-6754-4d4e-e077-2d58ad6c6269"
      },
      "execution_count": null,
      "outputs": [
        {
          "output_type": "stream",
          "name": "stdout",
          "text": [
            "9\n",
            "10\n"
          ]
        }
      ]
    },
    {
      "cell_type": "code",
      "source": [
        "Z = np.arange(10)\n",
        "# Z**Z\n",
        "# Z_2 = 2 << Z >> 2\n",
        "#Z_2\n",
        "#print([bin(2) for z in Z_2])\n",
        "#print([bin(z) for z in 2 << Z_2])\n",
        "#print([bin(z) for z in Z_2])\n",
        "#Z<Z>Z"
      ],
      "metadata": {
        "id": "J3UCjYJERDBJ"
      },
      "execution_count": 4,
      "outputs": []
    },
    {
      "cell_type": "code",
      "source": [
        "np.array([np.nan]).astype(int).astype(float)"
      ],
      "metadata": {
        "colab": {
          "base_uri": "https://localhost:8080/"
        },
        "id": "Clqw04lpTmpf",
        "outputId": "a50c25f0-16fb-4bb4-9923-c1ecbd76b4ce"
      },
      "execution_count": null,
      "outputs": [
        {
          "output_type": "execute_result",
          "data": {
            "text/plain": [
              "array([-9.22337204e+18])"
            ]
          },
          "metadata": {},
          "execution_count": 73
        }
      ]
    },
    {
      "cell_type": "code",
      "source": [
        "arr = np.random.random((5,5))\n",
        "print(arr)\n",
        "arr = np.round(arr,2)\n",
        "print(arr)"
      ],
      "metadata": {
        "colab": {
          "base_uri": "https://localhost:8080/"
        },
        "id": "zl12nDByTyF5",
        "outputId": "091055b8-e720-4ebd-cc19-52b497cd71fc"
      },
      "execution_count": null,
      "outputs": [
        {
          "output_type": "stream",
          "name": "stdout",
          "text": [
            "[[0.14792949 0.52228764 0.14749388 0.9696379  0.89855783]\n",
            " [0.3980568  0.09729235 0.42489758 0.84662634 0.96666728]\n",
            " [0.21186812 0.79113012 0.77122236 0.65459337 0.10370223]\n",
            " [0.29169366 0.97560008 0.12977823 0.38620735 0.03291223]\n",
            " [0.37889038 0.88687427 0.13521151 0.48084483 0.41246839]]\n",
            "[[0.15 0.52 0.15 0.97 0.9 ]\n",
            " [0.4  0.1  0.42 0.85 0.97]\n",
            " [0.21 0.79 0.77 0.65 0.1 ]\n",
            " [0.29 0.98 0.13 0.39 0.03]\n",
            " [0.38 0.89 0.14 0.48 0.41]]\n"
          ]
        }
      ]
    },
    {
      "cell_type": "code",
      "source": [
        "x=np.array([0,1,2,32,4,5,6,7,8,99])\n",
        "y=np.array([1,2,3,5,6,7])\n",
        "print(np.intersect1d(x,y))"
      ],
      "metadata": {
        "colab": {
          "base_uri": "https://localhost:8080/"
        },
        "id": "S4qkWzcXT0cD",
        "outputId": "7dcf5d0c-b7fc-43cd-d674-f011bb3c6729"
      },
      "execution_count": null,
      "outputs": [
        {
          "output_type": "stream",
          "name": "stdout",
          "text": [
            "[1 2 5 6 7]\n"
          ]
        }
      ]
    },
    {
      "cell_type": "code",
      "source": [
        "# # Suicide mode on\n",
        "# defaults = np.seterr(all=\"ignore\")\n",
        "Z = np.ones(1) / 0\n",
        "\n",
        "# # Back to sanity\n",
        "_ = np.seterr(**defaults)\n",
        "\n",
        "# An equivalent way, with a context manager:\n",
        "\n",
        "with np.errstate(divide='ignore'):\n",
        "     Z = np.ones(1) / 0"
      ],
      "metadata": {
        "id": "JdvkydQaVmuN",
        "colab": {
          "base_uri": "https://localhost:8080/",
          "height": 269
        },
        "outputId": "39d1b647-7632-4428-fed7-232439ce8548"
      },
      "execution_count": 8,
      "outputs": [
        {
          "output_type": "stream",
          "name": "stderr",
          "text": [
            "/usr/local/lib/python3.7/dist-packages/ipykernel_launcher.py:3: RuntimeWarning: divide by zero encountered in true_divide\n",
            "  This is separate from the ipykernel package so we can avoid doing imports until\n"
          ]
        },
        {
          "output_type": "error",
          "ename": "NameError",
          "evalue": "ignored",
          "traceback": [
            "\u001b[0;31m---------------------------------------------------------------------------\u001b[0m",
            "\u001b[0;31mNameError\u001b[0m                                 Traceback (most recent call last)",
            "\u001b[0;32m<ipython-input-8-a3ce5636733f>\u001b[0m in \u001b[0;36m<module>\u001b[0;34m\u001b[0m\n\u001b[1;32m      4\u001b[0m \u001b[0;34m\u001b[0m\u001b[0m\n\u001b[1;32m      5\u001b[0m \u001b[0;31m# # Back to sanity\u001b[0m\u001b[0;34m\u001b[0m\u001b[0;34m\u001b[0m\u001b[0;34m\u001b[0m\u001b[0m\n\u001b[0;32m----> 6\u001b[0;31m \u001b[0m_\u001b[0m \u001b[0;34m=\u001b[0m \u001b[0mnp\u001b[0m\u001b[0;34m.\u001b[0m\u001b[0mseterr\u001b[0m\u001b[0;34m(\u001b[0m\u001b[0;34m**\u001b[0m\u001b[0mdefaults\u001b[0m\u001b[0;34m)\u001b[0m\u001b[0;34m\u001b[0m\u001b[0;34m\u001b[0m\u001b[0m\n\u001b[0m\u001b[1;32m      7\u001b[0m \u001b[0;34m\u001b[0m\u001b[0m\n\u001b[1;32m      8\u001b[0m \u001b[0;31m# An equivalent way, with a context manager:\u001b[0m\u001b[0;34m\u001b[0m\u001b[0;34m\u001b[0m\u001b[0;34m\u001b[0m\u001b[0m\n",
            "\u001b[0;31mNameError\u001b[0m: name 'defaults' is not defined"
          ]
        }
      ]
    },
    {
      "cell_type": "code",
      "source": [
        "np.sqrt(-1) == np.emath.sqrt(-1)"
      ],
      "metadata": {
        "colab": {
          "base_uri": "https://localhost:8080/"
        },
        "id": "qJDOd5k671vw",
        "outputId": "19a2e244-f84b-4a26-9f90-75e7fd600e51"
      },
      "execution_count": 9,
      "outputs": [
        {
          "output_type": "stream",
          "name": "stderr",
          "text": [
            "/usr/local/lib/python3.7/dist-packages/ipykernel_launcher.py:1: RuntimeWarning: invalid value encountered in sqrt\n",
            "  \"\"\"Entry point for launching an IPython kernel.\n"
          ]
        },
        {
          "output_type": "execute_result",
          "data": {
            "text/plain": [
              "False"
            ]
          },
          "metadata": {},
          "execution_count": 9
        }
      ]
    },
    {
      "cell_type": "code",
      "source": [
        "yesterday = np.datetime64('today', 'D') - np.timedelta64(1, 'D')\n",
        "today     = np.datetime64('today', 'D')\n",
        "tomorrow  = np.datetime64('today', 'D') + np.timedelta64(1, 'D')"
      ],
      "metadata": {
        "id": "f_upAxJU8CUi"
      },
      "execution_count": 10,
      "outputs": []
    },
    {
      "cell_type": "code",
      "source": [
        "Z = np.arange('2016-07', '2016-08', dtype='datetime64[D]')\n",
        "print(Z)"
      ],
      "metadata": {
        "colab": {
          "base_uri": "https://localhost:8080/"
        },
        "id": "ntCtb_XE8NFR",
        "outputId": "d66662c5-4e7f-427d-8d39-82302543850b"
      },
      "execution_count": 11,
      "outputs": [
        {
          "output_type": "stream",
          "name": "stdout",
          "text": [
            "['2016-07-01' '2016-07-02' '2016-07-03' '2016-07-04' '2016-07-05'\n",
            " '2016-07-06' '2016-07-07' '2016-07-08' '2016-07-09' '2016-07-10'\n",
            " '2016-07-11' '2016-07-12' '2016-07-13' '2016-07-14' '2016-07-15'\n",
            " '2016-07-16' '2016-07-17' '2016-07-18' '2016-07-19' '2016-07-20'\n",
            " '2016-07-21' '2016-07-22' '2016-07-23' '2016-07-24' '2016-07-25'\n",
            " '2016-07-26' '2016-07-27' '2016-07-28' '2016-07-29' '2016-07-30'\n",
            " '2016-07-31']\n"
          ]
        }
      ]
    },
    {
      "cell_type": "code",
      "source": [
        "A = np.ones(3)*1\n",
        "B = np.ones(3)*2\n",
        "C = np.ones(3)*3\n",
        "np.add(A,B,out=B)\n",
        "np.divide(A,2,out=A)\n",
        "np.negative(A,out=A)\n",
        "np.dot(A,B)"
      ],
      "metadata": {
        "colab": {
          "base_uri": "https://localhost:8080/"
        },
        "id": "mCsZesfV8Vez",
        "outputId": "0d515047-de36-4aa1-86b6-9d2b11a6fd19"
      },
      "execution_count": 13,
      "outputs": [
        {
          "output_type": "execute_result",
          "data": {
            "text/plain": [
              "-4.5"
            ]
          },
          "metadata": {},
          "execution_count": 13
        }
      ]
    },
    {
      "cell_type": "code",
      "source": [
        "Z = np.random.uniform(0,10,10)\n",
        "print (Z - Z%1)\n",
        "print (np.floor(Z))\n",
        "print (np.ceil(Z)-1)\n",
        "print (Z.astype(int))\n",
        "print(np.trunc(Z))"
      ],
      "metadata": {
        "colab": {
          "base_uri": "https://localhost:8080/"
        },
        "id": "TGdlCK808jUI",
        "outputId": "78d69e1e-d6c1-4111-89be-73e9555a6b8b"
      },
      "execution_count": 16,
      "outputs": [
        {
          "output_type": "stream",
          "name": "stdout",
          "text": [
            "[2. 9. 5. 3. 4. 7. 2. 4. 5. 4.]\n",
            "[2. 9. 5. 3. 4. 7. 2. 4. 5. 4.]\n",
            "[2. 9. 5. 3. 4. 7. 2. 4. 5. 4.]\n",
            "[2 9 5 3 4 7 2 4 5 4]\n",
            "[2. 9. 5. 3. 4. 7. 2. 4. 5. 4.]\n"
          ]
        }
      ]
    },
    {
      "cell_type": "code",
      "source": [
        "Z = np.zeros((5,5))\n",
        "Z += np.arange(5)\n",
        "print(Z)"
      ],
      "metadata": {
        "colab": {
          "base_uri": "https://localhost:8080/"
        },
        "id": "F6IJpkJn9chB",
        "outputId": "2b3f15c4-5a8b-42b8-bfd0-98c272129ea2"
      },
      "execution_count": 17,
      "outputs": [
        {
          "output_type": "stream",
          "name": "stdout",
          "text": [
            "[[0. 1. 2. 3. 4.]\n",
            " [0. 1. 2. 3. 4.]\n",
            " [0. 1. 2. 3. 4.]\n",
            " [0. 1. 2. 3. 4.]\n",
            " [0. 1. 2. 3. 4.]]\n"
          ]
        }
      ]
    },
    {
      "cell_type": "code",
      "source": [
        "def generate():\n",
        "    for x in range(10):\n",
        "        yield x\n",
        "Z = np.fromiter(generate(),dtype=float,count=-1)\n",
        "print(Z)"
      ],
      "metadata": {
        "colab": {
          "base_uri": "https://localhost:8080/"
        },
        "id": "UZ2d70Xu9jyZ",
        "outputId": "a351ea5a-13bc-4bb2-81ff-fbcb74b578ce"
      },
      "execution_count": 18,
      "outputs": [
        {
          "output_type": "stream",
          "name": "stdout",
          "text": [
            "[0. 1. 2. 3. 4. 5. 6. 7. 8. 9.]\n"
          ]
        }
      ]
    },
    {
      "cell_type": "code",
      "source": [
        "Z = np.linspace(0,1,11,endpoint=False)[1:]\n",
        "print(Z)"
      ],
      "metadata": {
        "colab": {
          "base_uri": "https://localhost:8080/"
        },
        "id": "eHlchjac9qN3",
        "outputId": "a34f4021-a226-43f9-f97d-fc0e2078f7e8"
      },
      "execution_count": 19,
      "outputs": [
        {
          "output_type": "stream",
          "name": "stdout",
          "text": [
            "[0.09090909 0.18181818 0.27272727 0.36363636 0.45454545 0.54545455\n",
            " 0.63636364 0.72727273 0.81818182 0.90909091]\n"
          ]
        }
      ]
    },
    {
      "cell_type": "code",
      "source": [
        "Z = np.random.random(10)\n",
        "Z.sort()\n",
        "print(Z)"
      ],
      "metadata": {
        "colab": {
          "base_uri": "https://localhost:8080/"
        },
        "id": "NiE5zTMd9rtY",
        "outputId": "b7e4fc68-43cb-465f-c474-da53c9dff513"
      },
      "execution_count": 20,
      "outputs": [
        {
          "output_type": "stream",
          "name": "stdout",
          "text": [
            "[0.18133109 0.1949648  0.21268197 0.23940252 0.24502034 0.25392773\n",
            " 0.31867174 0.46954589 0.74480622 0.95589977]\n"
          ]
        }
      ]
    },
    {
      "cell_type": "code",
      "source": [
        "import functools as ft\n",
        "Z = np.arange(10)\n",
        "#np.add.reduce(Z)\n",
        "ft.reduce(np.add,Z,0)"
      ],
      "metadata": {
        "colab": {
          "base_uri": "https://localhost:8080/"
        },
        "id": "m1IAdnT992KL",
        "outputId": "fdebd197-5d51-4d29-9f43-c1a7175b7f91"
      },
      "execution_count": 21,
      "outputs": [
        {
          "output_type": "execute_result",
          "data": {
            "text/plain": [
              "45"
            ]
          },
          "metadata": {},
          "execution_count": 21
        }
      ]
    },
    {
      "cell_type": "code",
      "source": [
        "A = np.random.randint(0,2,5)\n",
        "B = np.random.randint(0,2,5)\n",
        "print(A)\n",
        "print('*'*60)\n",
        "print(B)\n",
        "print('*'*60)\n",
        "# Assuming identical shape of the arrays and a tolerance for the comparison of values\n",
        "equal = np.allclose(A,B)\n",
        "print(equal)\n",
        "\n",
        "# Checking both the shape and the element values, no tolerance (values have to be exactly equal)\n",
        "equal = np.array_equal(A,B)\n",
        "print(equal)"
      ],
      "metadata": {
        "colab": {
          "base_uri": "https://localhost:8080/"
        },
        "id": "T36lw4FQ99TA",
        "outputId": "fba27d2b-b91a-450e-fa7c-21683670c762"
      },
      "execution_count": 22,
      "outputs": [
        {
          "output_type": "stream",
          "name": "stdout",
          "text": [
            "[1 1 1 1 0]\n",
            "************************************************************\n",
            "[0 0 0 1 0]\n",
            "************************************************************\n",
            "False\n",
            "False\n"
          ]
        }
      ]
    },
    {
      "cell_type": "code",
      "source": [
        "Z = np.zeros(10)\n",
        "Z.flags.writeable = False\n",
        "#Z[0] = 1"
      ],
      "metadata": {
        "id": "-9-mGSz1-A_4"
      },
      "execution_count": 24,
      "outputs": []
    },
    {
      "cell_type": "code",
      "source": [
        "import numpy as np\n",
        "z= np.random.randint(0,9,(10,2))\n",
        "x,y = z[:,0], z[:,1]\n",
        "r = np.sqrt(x**2+y**2)\n",
        "t = np.arctan2(y,x)\n",
        "poles = np.c_[r,t]\n",
        "print(poles)"
      ],
      "metadata": {
        "colab": {
          "base_uri": "https://localhost:8080/"
        },
        "id": "tz8h29wN-I1i",
        "outputId": "42d94c8f-ec43-463a-d9b7-83e62f4c058e"
      },
      "execution_count": 25,
      "outputs": [
        {
          "output_type": "stream",
          "name": "stdout",
          "text": [
            "[[1.41421356 0.78539816]\n",
            " [4.12310563 1.32581766]\n",
            " [1.         0.        ]\n",
            " [6.40312424 0.67474094]\n",
            " [3.         0.        ]\n",
            " [7.61577311 1.16590454]\n",
            " [5.83095189 0.5404195 ]\n",
            " [3.60555128 0.5880026 ]\n",
            " [7.21110255 0.98279372]\n",
            " [5.65685425 0.78539816]]\n"
          ]
        }
      ]
    },
    {
      "cell_type": "code",
      "source": [
        "arr = np.random.random(10)\n",
        "print(arr)\n",
        "arr[arr.argmax()] = 0\n",
        "print(arr)"
      ],
      "metadata": {
        "colab": {
          "base_uri": "https://localhost:8080/"
        },
        "id": "GozT3IfN-pqI",
        "outputId": "817e6694-5e0b-4170-b2bc-c912785edf87"
      },
      "execution_count": 26,
      "outputs": [
        {
          "output_type": "stream",
          "name": "stdout",
          "text": [
            "[0.5400838  0.82985153 0.51443513 0.53629943 0.65241873 0.27737411\n",
            " 0.50389297 0.64710725 0.81153554 0.88209882]\n",
            "[0.5400838  0.82985153 0.51443513 0.53629943 0.65241873 0.27737411\n",
            " 0.50389297 0.64710725 0.81153554 0.        ]\n"
          ]
        }
      ]
    },
    {
      "cell_type": "code",
      "source": [
        "Z = np.zeros((10,10), [('x',float),('y',float)])\n",
        "Z['x'], Z['y'] = np.meshgrid(np.linspace(0,1,10),\n",
        "                             np.linspace(0,1,10))\n",
        "print(Z)"
      ],
      "metadata": {
        "colab": {
          "base_uri": "https://localhost:8080/"
        },
        "id": "SV8aMgXk_Fbi",
        "outputId": "dd50a2bb-3518-4f12-92ef-31f206ae1d5e"
      },
      "execution_count": 27,
      "outputs": [
        {
          "output_type": "stream",
          "name": "stdout",
          "text": [
            "[[(0.        , 0.        ) (0.11111111, 0.        )\n",
            "  (0.22222222, 0.        ) (0.33333333, 0.        )\n",
            "  (0.44444444, 0.        ) (0.55555556, 0.        )\n",
            "  (0.66666667, 0.        ) (0.77777778, 0.        )\n",
            "  (0.88888889, 0.        ) (1.        , 0.        )]\n",
            " [(0.        , 0.11111111) (0.11111111, 0.11111111)\n",
            "  (0.22222222, 0.11111111) (0.33333333, 0.11111111)\n",
            "  (0.44444444, 0.11111111) (0.55555556, 0.11111111)\n",
            "  (0.66666667, 0.11111111) (0.77777778, 0.11111111)\n",
            "  (0.88888889, 0.11111111) (1.        , 0.11111111)]\n",
            " [(0.        , 0.22222222) (0.11111111, 0.22222222)\n",
            "  (0.22222222, 0.22222222) (0.33333333, 0.22222222)\n",
            "  (0.44444444, 0.22222222) (0.55555556, 0.22222222)\n",
            "  (0.66666667, 0.22222222) (0.77777778, 0.22222222)\n",
            "  (0.88888889, 0.22222222) (1.        , 0.22222222)]\n",
            " [(0.        , 0.33333333) (0.11111111, 0.33333333)\n",
            "  (0.22222222, 0.33333333) (0.33333333, 0.33333333)\n",
            "  (0.44444444, 0.33333333) (0.55555556, 0.33333333)\n",
            "  (0.66666667, 0.33333333) (0.77777778, 0.33333333)\n",
            "  (0.88888889, 0.33333333) (1.        , 0.33333333)]\n",
            " [(0.        , 0.44444444) (0.11111111, 0.44444444)\n",
            "  (0.22222222, 0.44444444) (0.33333333, 0.44444444)\n",
            "  (0.44444444, 0.44444444) (0.55555556, 0.44444444)\n",
            "  (0.66666667, 0.44444444) (0.77777778, 0.44444444)\n",
            "  (0.88888889, 0.44444444) (1.        , 0.44444444)]\n",
            " [(0.        , 0.55555556) (0.11111111, 0.55555556)\n",
            "  (0.22222222, 0.55555556) (0.33333333, 0.55555556)\n",
            "  (0.44444444, 0.55555556) (0.55555556, 0.55555556)\n",
            "  (0.66666667, 0.55555556) (0.77777778, 0.55555556)\n",
            "  (0.88888889, 0.55555556) (1.        , 0.55555556)]\n",
            " [(0.        , 0.66666667) (0.11111111, 0.66666667)\n",
            "  (0.22222222, 0.66666667) (0.33333333, 0.66666667)\n",
            "  (0.44444444, 0.66666667) (0.55555556, 0.66666667)\n",
            "  (0.66666667, 0.66666667) (0.77777778, 0.66666667)\n",
            "  (0.88888889, 0.66666667) (1.        , 0.66666667)]\n",
            " [(0.        , 0.77777778) (0.11111111, 0.77777778)\n",
            "  (0.22222222, 0.77777778) (0.33333333, 0.77777778)\n",
            "  (0.44444444, 0.77777778) (0.55555556, 0.77777778)\n",
            "  (0.66666667, 0.77777778) (0.77777778, 0.77777778)\n",
            "  (0.88888889, 0.77777778) (1.        , 0.77777778)]\n",
            " [(0.        , 0.88888889) (0.11111111, 0.88888889)\n",
            "  (0.22222222, 0.88888889) (0.33333333, 0.88888889)\n",
            "  (0.44444444, 0.88888889) (0.55555556, 0.88888889)\n",
            "  (0.66666667, 0.88888889) (0.77777778, 0.88888889)\n",
            "  (0.88888889, 0.88888889) (1.        , 0.88888889)]\n",
            " [(0.        , 1.        ) (0.11111111, 1.        )\n",
            "  (0.22222222, 1.        ) (0.33333333, 1.        )\n",
            "  (0.44444444, 1.        ) (0.55555556, 1.        )\n",
            "  (0.66666667, 1.        ) (0.77777778, 1.        )\n",
            "  (0.88888889, 1.        ) (1.        , 1.        )]]\n"
          ]
        }
      ]
    },
    {
      "cell_type": "code",
      "source": [
        "# X = np.random.randint(0,11,(5,5))\n",
        "# Y = np.random.randint(11,22,(5,5))\n",
        "# C = 1/(Y-X.T)\n",
        "# C\n",
        "\n",
        "Y = np.random.randint(0,11,10)\n",
        "X = np.random.randint(11,22,10)\n",
        "#print(Y.reshape(1,10))\n",
        "Y = np.tile(Y,(10,1))\n",
        "#print(X)\n",
        "X  = np.tile(X,(10,1)).T\n",
        "#print(X)\n",
        "\n",
        "C = 1/(X - Y)\n",
        "C"
      ],
      "metadata": {
        "colab": {
          "base_uri": "https://localhost:8080/"
        },
        "id": "Y9DtE4WA_sED",
        "outputId": "744a838d-f329-4261-80b9-dafe8da8d33f"
      },
      "execution_count": 28,
      "outputs": [
        {
          "output_type": "execute_result",
          "data": {
            "text/plain": [
              "array([[0.1       , 0.16666667, 0.07692308, 0.125     , 0.09090909,\n",
              "        0.16666667, 0.08333333, 0.16666667, 0.14285714, 0.11111111],\n",
              "       [0.07692308, 0.11111111, 0.0625    , 0.09090909, 0.07142857,\n",
              "        0.11111111, 0.06666667, 0.11111111, 0.1       , 0.08333333],\n",
              "       [0.08333333, 0.125     , 0.06666667, 0.1       , 0.07692308,\n",
              "        0.125     , 0.07142857, 0.125     , 0.11111111, 0.09090909],\n",
              "       [0.08333333, 0.125     , 0.06666667, 0.1       , 0.07692308,\n",
              "        0.125     , 0.07142857, 0.125     , 0.11111111, 0.09090909],\n",
              "       [0.1       , 0.16666667, 0.07692308, 0.125     , 0.09090909,\n",
              "        0.16666667, 0.08333333, 0.16666667, 0.14285714, 0.11111111],\n",
              "       [0.09090909, 0.14285714, 0.07142857, 0.11111111, 0.08333333,\n",
              "        0.14285714, 0.07692308, 0.14285714, 0.125     , 0.1       ],\n",
              "       [0.14285714, 0.33333333, 0.1       , 0.2       , 0.125     ,\n",
              "        0.33333333, 0.11111111, 0.33333333, 0.25      , 0.16666667],\n",
              "       [0.07692308, 0.11111111, 0.0625    , 0.09090909, 0.07142857,\n",
              "        0.11111111, 0.06666667, 0.11111111, 0.1       , 0.08333333],\n",
              "       [0.125     , 0.25      , 0.09090909, 0.16666667, 0.11111111,\n",
              "        0.25      , 0.1       , 0.25      , 0.2       , 0.14285714],\n",
              "       [0.09090909, 0.14285714, 0.07142857, 0.11111111, 0.08333333,\n",
              "        0.14285714, 0.07692308, 0.14285714, 0.125     , 0.1       ]])"
            ]
          },
          "metadata": {},
          "execution_count": 28
        }
      ]
    },
    {
      "cell_type": "code",
      "source": [
        "for dtype in [np.int8, np.int32, np.int64]:\n",
        "    print(np.iinfo(dtype).min)\n",
        "    print(np.iinfo(dtype).max)\n",
        "for dtype in [np.float32, np.float64]:\n",
        "    print(np.finfo(dtype).min)\n",
        "    print(np.finfo(dtype).max)\n",
        "    print(np.finfo(dtype).eps)"
      ],
      "metadata": {
        "colab": {
          "base_uri": "https://localhost:8080/"
        },
        "id": "KTxyF-5s_4qo",
        "outputId": "f1275a05-6a75-4e2a-e4f5-8ec362d310f7"
      },
      "execution_count": 29,
      "outputs": [
        {
          "output_type": "stream",
          "name": "stdout",
          "text": [
            "-128\n",
            "127\n",
            "-2147483648\n",
            "2147483647\n",
            "-9223372036854775808\n",
            "9223372036854775807\n",
            "-3.4028235e+38\n",
            "3.4028235e+38\n",
            "1.1920929e-07\n",
            "-1.7976931348623157e+308\n",
            "1.7976931348623157e+308\n",
            "2.220446049250313e-16\n"
          ]
        }
      ]
    },
    {
      "cell_type": "code",
      "source": [
        "z=[]\n",
        "print(z)"
      ],
      "metadata": {
        "colab": {
          "base_uri": "https://localhost:8080/"
        },
        "id": "Wxl1kKwN_937",
        "outputId": "b49c7397-d4cb-4b3b-d51a-e886483eb177"
      },
      "execution_count": 30,
      "outputs": [
        {
          "output_type": "stream",
          "name": "stdout",
          "text": [
            "[]\n"
          ]
        }
      ]
    },
    {
      "cell_type": "code",
      "source": [
        "arr = np.random.uniform(0,10,10)\n",
        "scal = 5\n",
        "arr_1 = np.abs(arr - 5)\n",
        "ind = arr_1.argmin()\n",
        "print(arr)\n",
        "print('*'*60)\n",
        "print(arr[ind])"
      ],
      "metadata": {
        "colab": {
          "base_uri": "https://localhost:8080/"
        },
        "id": "PUY1YNnsAQVu",
        "outputId": "e04e2c34-8ccd-40cd-a6b9-22df56ccbdc8"
      },
      "execution_count": 31,
      "outputs": [
        {
          "output_type": "stream",
          "name": "stdout",
          "text": [
            "[4.04618744 0.18618329 3.54419808 7.3657313  4.96852511 1.65197639\n",
            " 7.4098635  4.00852322 1.29698258 3.74956284]\n",
            "************************************************************\n",
            "4.968525107137587\n"
          ]
        }
      ]
    },
    {
      "cell_type": "code",
      "source": [
        "import numpy as np\n",
        "Z = np.zeros(10, [ ('position', [ ('x', float),\n",
        "                                  ('y', float)]),\n",
        "                   ('color',    [ ('r', float),\n",
        "                                  ('g', float),\n",
        "                                  ('b', float)])])\n",
        "print(Z)"
      ],
      "metadata": {
        "colab": {
          "base_uri": "https://localhost:8080/"
        },
        "id": "TvJ9mN9NASbh",
        "outputId": "92321634-0e81-457f-fcde-71aa178279d3"
      },
      "execution_count": 32,
      "outputs": [
        {
          "output_type": "stream",
          "name": "stdout",
          "text": [
            "[((0., 0.), (0., 0., 0.)) ((0., 0.), (0., 0., 0.))\n",
            " ((0., 0.), (0., 0., 0.)) ((0., 0.), (0., 0., 0.))\n",
            " ((0., 0.), (0., 0., 0.)) ((0., 0.), (0., 0., 0.))\n",
            " ((0., 0.), (0., 0., 0.)) ((0., 0.), (0., 0., 0.))\n",
            " ((0., 0.), (0., 0., 0.)) ((0., 0.), (0., 0., 0.))]\n"
          ]
        }
      ]
    },
    {
      "cell_type": "code",
      "source": [
        "arr = np.random.random((100,2))\n",
        "X,Y = np.atleast_2d(arr[:,0],arr[:,1])\n",
        "D = np.sqrt( (X-X.T)**2 + (Y-Y.T)**2)\n",
        "\n",
        "# Much faster with scipy\n",
        "import scipy\n",
        "# Thanks Gavin Heverly-Coulson (#issue 1)\n",
        "import scipy.spatial\n",
        "\n",
        "Z = np.random.random((10,2))\n",
        "D = scipy.spatial.distance.cdist(Z,Z)\n",
        "print(D)"
      ],
      "metadata": {
        "colab": {
          "base_uri": "https://localhost:8080/"
        },
        "id": "qiFLBlv8AfO6",
        "outputId": "db1bede2-d636-46cc-9cb1-16fecd9c5d33"
      },
      "execution_count": 33,
      "outputs": [
        {
          "output_type": "stream",
          "name": "stdout",
          "text": [
            "[[0.         0.56936637 0.723202   0.65873946 0.90923165 0.55125171\n",
            "  0.30082529 0.97386892 0.92654918 0.55759127]\n",
            " [0.56936637 0.         0.15396008 0.14865474 0.47199145 0.58991878\n",
            "  0.52570749 0.43613634 0.54493608 0.16250127]\n",
            " [0.723202   0.15396008 0.         0.15458386 0.42015944 0.69143298\n",
            "  0.65879574 0.31564657 0.49951723 0.25108244]\n",
            " [0.65873946 0.14865474 0.15458386 0.         0.32333774 0.54260551\n",
            "  0.66138241 0.31577339 0.64422011 0.11619057]\n",
            " [0.90923165 0.47199145 0.42015944 0.32333774 0.         0.57622385\n",
            "  0.9700786  0.23419588 0.90727754 0.37197615]\n",
            " [0.55125171 0.58991878 0.69143298 0.54260551 0.57622385 0.\n",
            "  0.77858297 0.75868367 1.12986425 0.44188341]\n",
            " [0.30082529 0.52570749 0.65879574 0.66138241 0.9700786  0.77858297\n",
            "  0.         0.9616194  0.69491726 0.59910597]\n",
            " [0.97386892 0.43613634 0.31564657 0.31577339 0.23419588 0.75868367\n",
            "  0.9616194  0.         0.73603442 0.41938925]\n",
            " [0.92654918 0.54493608 0.49951723 0.64422011 0.90727754 1.12986425\n",
            "  0.69491726 0.73603442 0.         0.70549188]\n",
            " [0.55759127 0.16250127 0.25108244 0.11619057 0.37197615 0.44188341\n",
            "  0.59910597 0.41938925 0.70549188 0.        ]]\n"
          ]
        }
      ]
    },
    {
      "cell_type": "code",
      "source": [
        "Z = np.arange(10, dtype=np.float32)\n",
        "Z_1 = Z.astype(np.float32, copy=False)\n",
        "Z_1[0] = 2\n",
        "print(Z)"
      ],
      "metadata": {
        "colab": {
          "base_uri": "https://localhost:8080/"
        },
        "id": "Vb0ubpfZAnO7",
        "outputId": "21bb0747-5f2d-4db9-ce45-67ab1e234cd9"
      },
      "execution_count": 34,
      "outputs": [
        {
          "output_type": "stream",
          "name": "stdout",
          "text": [
            "[2. 1. 2. 3. 4. 5. 6. 7. 8. 9.]\n"
          ]
        }
      ]
    },
    {
      "cell_type": "code",
      "source": [
        "from io import StringIO\n",
        "\n",
        "# Fake file \n",
        "s = StringIO(\"\"\"1, 2, 3, 4, 5\\n\n",
        "                6,  ,  , 7, 8\\n\n",
        "                 ,  , 9,10,11\\n\"\"\")\n",
        "Z = np.genfromtxt(s, delimiter=\",\", dtype=np.int)\n",
        "print(Z)"
      ],
      "metadata": {
        "colab": {
          "base_uri": "https://localhost:8080/"
        },
        "id": "Qs5p5fsNA8Mh",
        "outputId": "f49df885-a2a8-4ec9-9c65-65fb0bbda04b"
      },
      "execution_count": 35,
      "outputs": [
        {
          "output_type": "stream",
          "name": "stdout",
          "text": [
            "[[ 1  2  3  4  5]\n",
            " [ 6 -1 -1  7  8]\n",
            " [-1 -1  9 10 11]]\n"
          ]
        },
        {
          "output_type": "stream",
          "name": "stderr",
          "text": [
            "/usr/local/lib/python3.7/dist-packages/ipykernel_launcher.py:7: DeprecationWarning: `np.int` is a deprecated alias for the builtin `int`. To silence this warning, use `int` by itself. Doing this will not modify any behavior and is safe. When replacing `np.int`, you may wish to use e.g. `np.int64` or `np.int32` to specify the precision. If you wish to review your current use, check the release note link for additional information.\n",
            "Deprecated in NumPy 1.20; for more details and guidance: https://numpy.org/devdocs/release/1.20.0-notes.html#deprecations\n",
            "  import sys\n"
          ]
        }
      ]
    },
    {
      "cell_type": "code",
      "source": [
        "Z = np.arange(9).reshape(3,3)\n",
        "for index, value in np.ndenumerate(Z):\n",
        "    print(index, value)\n",
        "for index in np.ndindex(Z.shape):\n",
        "    print(index, Z[index])"
      ],
      "metadata": {
        "colab": {
          "base_uri": "https://localhost:8080/"
        },
        "id": "AVJRKmrdA-if",
        "outputId": "93c9f230-8960-4f9f-c858-e689114ddd39"
      },
      "execution_count": 36,
      "outputs": [
        {
          "output_type": "stream",
          "name": "stdout",
          "text": [
            "(0, 0) 0\n",
            "(0, 1) 1\n",
            "(0, 2) 2\n",
            "(1, 0) 3\n",
            "(1, 1) 4\n",
            "(1, 2) 5\n",
            "(2, 0) 6\n",
            "(2, 1) 7\n",
            "(2, 2) 8\n",
            "(0, 0) 0\n",
            "(0, 1) 1\n",
            "(0, 2) 2\n",
            "(1, 0) 3\n",
            "(1, 1) 4\n",
            "(1, 2) 5\n",
            "(2, 0) 6\n",
            "(2, 1) 7\n",
            "(2, 2) 8\n"
          ]
        }
      ]
    },
    {
      "cell_type": "code",
      "source": [
        "sigma,myu = 1.0,0.0\n",
        "\n",
        "X,Y  = np.meshgrid(np.linspace(-1,1,10),np.linspace(-1,1,10))\n",
        "D = np.sqrt(X**2+Y**2)\n",
        "G = np.exp(-(D-myu)**2/(2*sigma**2))\n",
        "print(G)"
      ],
      "metadata": {
        "colab": {
          "base_uri": "https://localhost:8080/"
        },
        "id": "q73x5ob9BEQf",
        "outputId": "cf30d5c6-0651-488e-cf2b-9b9e72308470"
      },
      "execution_count": 37,
      "outputs": [
        {
          "output_type": "stream",
          "name": "stdout",
          "text": [
            "[[0.36787944 0.44822088 0.51979489 0.57375342 0.60279818 0.60279818\n",
            "  0.57375342 0.51979489 0.44822088 0.36787944]\n",
            " [0.44822088 0.54610814 0.63331324 0.69905581 0.73444367 0.73444367\n",
            "  0.69905581 0.63331324 0.54610814 0.44822088]\n",
            " [0.51979489 0.63331324 0.73444367 0.81068432 0.85172308 0.85172308\n",
            "  0.81068432 0.73444367 0.63331324 0.51979489]\n",
            " [0.57375342 0.69905581 0.81068432 0.89483932 0.9401382  0.9401382\n",
            "  0.89483932 0.81068432 0.69905581 0.57375342]\n",
            " [0.60279818 0.73444367 0.85172308 0.9401382  0.98773022 0.98773022\n",
            "  0.9401382  0.85172308 0.73444367 0.60279818]\n",
            " [0.60279818 0.73444367 0.85172308 0.9401382  0.98773022 0.98773022\n",
            "  0.9401382  0.85172308 0.73444367 0.60279818]\n",
            " [0.57375342 0.69905581 0.81068432 0.89483932 0.9401382  0.9401382\n",
            "  0.89483932 0.81068432 0.69905581 0.57375342]\n",
            " [0.51979489 0.63331324 0.73444367 0.81068432 0.85172308 0.85172308\n",
            "  0.81068432 0.73444367 0.63331324 0.51979489]\n",
            " [0.44822088 0.54610814 0.63331324 0.69905581 0.73444367 0.73444367\n",
            "  0.69905581 0.63331324 0.54610814 0.44822088]\n",
            " [0.36787944 0.44822088 0.51979489 0.57375342 0.60279818 0.60279818\n",
            "  0.57375342 0.51979489 0.44822088 0.36787944]]\n"
          ]
        }
      ]
    },
    {
      "cell_type": "code",
      "source": [
        "n = 10\n",
        "p = 3\n",
        "Z = np.zeros((n,n))\n",
        "np.put(Z, np.random.choice(range(n*n), p, replace=False),1)\n",
        "print(Z)\n",
        "np.put(Z,11,1)\n",
        "print(Z)"
      ],
      "metadata": {
        "colab": {
          "base_uri": "https://localhost:8080/"
        },
        "id": "8_Qk5VJiBi7u",
        "outputId": "7d46e662-01d2-4579-d1ba-0beee1a9d8f1"
      },
      "execution_count": 39,
      "outputs": [
        {
          "output_type": "stream",
          "name": "stdout",
          "text": [
            "[[0. 0. 0. 0. 0. 0. 0. 0. 0. 0.]\n",
            " [0. 0. 0. 0. 0. 0. 1. 0. 0. 0.]\n",
            " [0. 0. 0. 0. 0. 0. 0. 0. 0. 0.]\n",
            " [0. 0. 0. 0. 0. 0. 0. 0. 0. 0.]\n",
            " [0. 0. 0. 0. 0. 0. 0. 0. 0. 0.]\n",
            " [0. 0. 0. 0. 0. 0. 0. 0. 0. 0.]\n",
            " [0. 0. 0. 0. 1. 0. 0. 0. 0. 0.]\n",
            " [0. 0. 0. 0. 0. 0. 0. 0. 0. 0.]\n",
            " [0. 0. 0. 0. 0. 1. 0. 0. 0. 0.]\n",
            " [0. 0. 0. 0. 0. 0. 0. 0. 0. 0.]]\n",
            "[[0. 0. 0. 0. 0. 0. 0. 0. 0. 0.]\n",
            " [0. 1. 0. 0. 0. 0. 1. 0. 0. 0.]\n",
            " [0. 0. 0. 0. 0. 0. 0. 0. 0. 0.]\n",
            " [0. 0. 0. 0. 0. 0. 0. 0. 0. 0.]\n",
            " [0. 0. 0. 0. 0. 0. 0. 0. 0. 0.]\n",
            " [0. 0. 0. 0. 0. 0. 0. 0. 0. 0.]\n",
            " [0. 0. 0. 0. 1. 0. 0. 0. 0. 0.]\n",
            " [0. 0. 0. 0. 0. 0. 0. 0. 0. 0.]\n",
            " [0. 0. 0. 0. 0. 1. 0. 0. 0. 0.]\n",
            " [0. 0. 0. 0. 0. 0. 0. 0. 0. 0.]]\n"
          ]
        }
      ]
    },
    {
      "cell_type": "code",
      "source": [
        "X = np.random.rand(5, 10)\n",
        "Y = X - X.mean(axis = 1,keepdims = True)\n",
        "#print(Y)\n",
        "X.mean(axis = 1).reshape(-1,1) == X.mean(axis = 1,keepdims =True)"
      ],
      "metadata": {
        "colab": {
          "base_uri": "https://localhost:8080/"
        },
        "id": "nYqRV59BBxNi",
        "outputId": "d2351693-4f7d-4802-c2fb-7606ff386b2a"
      },
      "execution_count": 40,
      "outputs": [
        {
          "output_type": "execute_result",
          "data": {
            "text/plain": [
              "array([[ True],\n",
              "       [ True],\n",
              "       [ True],\n",
              "       [ True],\n",
              "       [ True]])"
            ]
          },
          "metadata": {},
          "execution_count": 40
        }
      ]
    },
    {
      "cell_type": "code",
      "source": [
        "Z = np.random.randint(0,10,(5,5))\n",
        "print(Z)\n",
        "\n",
        "\n",
        "# Z_1 = Z\n",
        "# for ind in range(5):\n",
        "#     Z_1[:,ind].sort()\n",
        "#print(Z_1)\n",
        "\n",
        "\n",
        "print(Z[(-Z)[:,1].argsort()])\n",
        "print(Z[:,Z[1,:].argsort()])"
      ],
      "metadata": {
        "colab": {
          "base_uri": "https://localhost:8080/"
        },
        "id": "1cnCYcPsCIsC",
        "outputId": "01851409-7359-43e8-e9fe-014e651f5ecb"
      },
      "execution_count": 42,
      "outputs": [
        {
          "output_type": "stream",
          "name": "stdout",
          "text": [
            "[[9 6 4 3 8]\n",
            " [6 9 8 4 2]\n",
            " [9 7 4 0 5]\n",
            " [9 4 1 0 3]\n",
            " [9 4 3 9 5]]\n",
            "[[6 9 8 4 2]\n",
            " [9 7 4 0 5]\n",
            " [9 6 4 3 8]\n",
            " [9 4 1 0 3]\n",
            " [9 4 3 9 5]]\n",
            "[[8 3 9 4 6]\n",
            " [2 4 6 8 9]\n",
            " [5 0 9 4 7]\n",
            " [3 0 9 1 4]\n",
            " [5 9 9 3 4]]\n"
          ]
        }
      ]
    },
    {
      "cell_type": "code",
      "source": [
        "Z = np.random.randint(0,3,(3,10))\n",
        "Z[:,1] = 0\n",
        "Z = Z.astype(bool)\n",
        "print(Z)\n",
        "print(~Z)\n",
        "(Z).any(axis = 0)"
      ],
      "metadata": {
        "colab": {
          "base_uri": "https://localhost:8080/"
        },
        "id": "R2uvumLlCOiX",
        "outputId": "a7e80fbb-bb02-45bc-945f-57d04e53529f"
      },
      "execution_count": 43,
      "outputs": [
        {
          "output_type": "stream",
          "name": "stdout",
          "text": [
            "[[False False  True False False  True False False False False]\n",
            " [ True False  True False  True  True  True  True  True False]\n",
            " [False False  True  True False  True False  True  True False]]\n",
            "[[ True  True False  True  True False  True  True  True  True]\n",
            " [False  True False  True False False False False False  True]\n",
            " [ True  True False False  True False  True False False  True]]\n"
          ]
        },
        {
          "output_type": "execute_result",
          "data": {
            "text/plain": [
              "array([ True, False,  True,  True,  True,  True,  True,  True,  True,\n",
              "       False])"
            ]
          },
          "metadata": {},
          "execution_count": 43
        }
      ]
    },
    {
      "cell_type": "code",
      "source": [
        "Z = np.random.uniform(0,1,10)\n",
        "z = 0.5\n",
        "m = Z.flat[np.abs(Z - z).argmin()]\n",
        "print(m)"
      ],
      "metadata": {
        "colab": {
          "base_uri": "https://localhost:8080/"
        },
        "id": "Jv6SweQNCTIf",
        "outputId": "15130c54-1c33-451d-d8ef-4269d46e81f6"
      },
      "execution_count": 44,
      "outputs": [
        {
          "output_type": "stream",
          "name": "stdout",
          "text": [
            "0.47092911651371594\n"
          ]
        }
      ]
    },
    {
      "cell_type": "code",
      "source": [
        "A = np.arange(3).reshape(3,1)\n",
        "B = np.arange(3).reshape(1,3)\n",
        "it = np.nditer([A,B,None])\n",
        "for x,y,z in it: z[...] = x + y\n",
        "print(it.operands[2])"
      ],
      "metadata": {
        "colab": {
          "base_uri": "https://localhost:8080/"
        },
        "id": "Yjz3epTeDeeD",
        "outputId": "ba3e3cd1-52ea-4b9d-9cc0-581aa0d377a5"
      },
      "execution_count": 45,
      "outputs": [
        {
          "output_type": "stream",
          "name": "stdout",
          "text": [
            "[[0 1 2]\n",
            " [1 2 3]\n",
            " [2 3 4]]\n"
          ]
        }
      ]
    },
    {
      "cell_type": "code",
      "source": [
        "class NamedArray(np.ndarray):\n",
        "    def __new__(cls, array, name=\"no name\"):\n",
        "        obj = np.asarray(array).view(cls)\n",
        "        obj.name = name\n",
        "        return obj\n",
        "    def __array_finalize__(self, obj):\n",
        "        if obj is None: return\n",
        "        self.info = getattr(obj, 'name', \"no name\")\n",
        "\n",
        "Z = NamedArray(np.arange(10), \"range_10\")\n",
        "print (Z.name)"
      ],
      "metadata": {
        "colab": {
          "base_uri": "https://localhost:8080/"
        },
        "id": "B_0gcQfyDgCT",
        "outputId": "c6dda08c-9b6c-485d-ec78-7fdb05bde4bf"
      },
      "execution_count": 46,
      "outputs": [
        {
          "output_type": "stream",
          "name": "stdout",
          "text": [
            "range_10\n"
          ]
        }
      ]
    },
    {
      "cell_type": "code",
      "source": [
        "Z = np.ones(10)\n",
        "I = np.random.randint(0,len(Z),20)\n",
        "Z += np.bincount(I, minlength=len(Z))\n",
        "print(Z)\n",
        "\n",
        "# Another solution\n",
        "# Author: Bartosz Telenczuk\n",
        "np.add.at(Z, I, 1)\n",
        "print(Z)"
      ],
      "metadata": {
        "colab": {
          "base_uri": "https://localhost:8080/"
        },
        "id": "5xyCc2TaDlPM",
        "outputId": "b0a6b6df-a1f8-4419-df3e-0266baecfc08"
      },
      "execution_count": 47,
      "outputs": [
        {
          "output_type": "stream",
          "name": "stdout",
          "text": [
            "[3. 2. 5. 1. 3. 3. 2. 4. 4. 3.]\n",
            "[5. 3. 9. 1. 5. 5. 3. 7. 7. 5.]\n"
          ]
        }
      ]
    },
    {
      "cell_type": "code",
      "source": [
        "X = [1,2,3,4,5,6]\n",
        "I = [1,3,9,3,4,1]\n",
        "F = np.bincount(I,X)\n",
        "print(F)"
      ],
      "metadata": {
        "colab": {
          "base_uri": "https://localhost:8080/"
        },
        "id": "lg544bKoDpFr",
        "outputId": "e2933509-af95-498e-e4ad-e3054e7c404e"
      },
      "execution_count": 48,
      "outputs": [
        {
          "output_type": "stream",
          "name": "stdout",
          "text": [
            "[0. 7. 0. 6. 5. 0. 0. 0. 0. 3.]\n"
          ]
        }
      ]
    },
    {
      "cell_type": "code",
      "source": [
        "w, h = 256, 256\n",
        "I = np.random.randint(0, 4, (h, w, 3)).astype(np.ubyte)\n",
        "colors = np.unique(I.reshape(-1, 3), axis=0)\n",
        "n = len(colors)\n",
        "print(n)\n",
        "\n",
        "# Faster version\n",
        "# Author: Mark Setchell\n",
        "# https://stackoverflow.com/a/59671950/2836621\n",
        "\n",
        "w, h = 256, 256\n",
        "I = np.random.randint(0,4,(h,w,3), dtype=np.uint8)\n",
        "\n",
        "# View each pixel as a single 24-bit integer, rather than three 8-bit bytes\n",
        "I24 = np.dot(I.astype(np.uint32),[1,256,65536])\n",
        "\n",
        "# Count unique colours\n",
        "n = len(np.unique(I24))\n",
        "print(n)"
      ],
      "metadata": {
        "colab": {
          "base_uri": "https://localhost:8080/"
        },
        "id": "EKyPLc6aD2sQ",
        "outputId": "4971d4b7-7533-4870-f50c-4b1aaeb7ba46"
      },
      "execution_count": 49,
      "outputs": [
        {
          "output_type": "stream",
          "name": "stdout",
          "text": [
            "64\n",
            "64\n"
          ]
        }
      ]
    },
    {
      "cell_type": "code",
      "source": [
        "A = np.random.randint(0,10,(3,4,3,4))\n",
        "# solution by passing a tuple of axes (introduced in numpy 1.7.0)\n",
        "sum = A.sum(axis=(-2,-1))\n",
        "print(sum)\n",
        "# solution by flattening the last two dimensions into one\n",
        "# (useful for functions that don't accept tuples for axis argument)\n",
        "sum = A.reshape(A.shape[:-2] + (-1,)).sum(axis=-1)\n",
        "print(sum)"
      ],
      "metadata": {
        "colab": {
          "base_uri": "https://localhost:8080/"
        },
        "id": "GqZ9EDR-D8Nc",
        "outputId": "ad24101d-bf6d-48e9-8c45-edf7eb92d02c"
      },
      "execution_count": 50,
      "outputs": [
        {
          "output_type": "stream",
          "name": "stdout",
          "text": [
            "[[40 63 75 63]\n",
            " [53 39 34 54]\n",
            " [58 66 48 55]]\n",
            "[[40 63 75 63]\n",
            " [53 39 34 54]\n",
            " [58 66 48 55]]\n"
          ]
        }
      ]
    },
    {
      "cell_type": "code",
      "source": [
        "D = np.random.uniform(0,1,100)\n",
        "S = np.random.randint(0,10,100)\n",
        "D_sums = np.bincount(S, weights=D)\n",
        "D_counts = np.bincount(S)\n",
        "D_means = D_sums / D_counts\n",
        "print(D_means)\n",
        "\n",
        "# Pandas solution as a reference due to more intuitive code\n",
        "import pandas as pd\n",
        "print(pd.Series(D).groupby(S).mean())"
      ],
      "metadata": {
        "colab": {
          "base_uri": "https://localhost:8080/"
        },
        "id": "iBX36-Z6EAK6",
        "outputId": "13ada691-e20e-44e3-ec9e-fbf67638f32c"
      },
      "execution_count": 51,
      "outputs": [
        {
          "output_type": "stream",
          "name": "stdout",
          "text": [
            "[0.61412978 0.60644333 0.59511024 0.59469214 0.50897436 0.54204076\n",
            " 0.41136443 0.59247452 0.37562647 0.47834853]\n",
            "0    0.614130\n",
            "1    0.606443\n",
            "2    0.595110\n",
            "3    0.594692\n",
            "4    0.508974\n",
            "5    0.542041\n",
            "6    0.411364\n",
            "7    0.592475\n",
            "8    0.375626\n",
            "9    0.478349\n",
            "dtype: float64\n"
          ]
        }
      ]
    },
    {
      "cell_type": "code",
      "source": [
        "A = np.random.uniform(0,1,(5,5))\n",
        "B = np.random.uniform(0,1,(5,5))\n",
        "\n",
        "# Slow version\n",
        "np.diag(np.dot(A, B))\n",
        "\n",
        "# Fast version\n",
        "np.sum(A * B.T, axis=1)\n",
        "\n",
        "# Faster version\n",
        "np.einsum(\"ij,ji->i\", A, B)"
      ],
      "metadata": {
        "colab": {
          "base_uri": "https://localhost:8080/"
        },
        "id": "NiYWlNqPEEcC",
        "outputId": "955e04fe-18ed-492f-fd1a-113915a54c36"
      },
      "execution_count": 52,
      "outputs": [
        {
          "output_type": "execute_result",
          "data": {
            "text/plain": [
              "array([1.74967486, 1.23844184, 1.34115147, 1.119361  , 0.99381318])"
            ]
          },
          "metadata": {},
          "execution_count": 52
        }
      ]
    },
    {
      "cell_type": "code",
      "source": [
        "Z = np.array([1,2,3,4,5])\n",
        "nz = 3\n",
        "Z0 = np.zeros(len(Z) + (len(Z)-1)*(nz))\n",
        "Z0[::nz+1] = Z\n",
        "print(Z0)"
      ],
      "metadata": {
        "colab": {
          "base_uri": "https://localhost:8080/"
        },
        "id": "vChX2pE8EOYe",
        "outputId": "ecff13b4-0108-44e5-f8a6-00ac09d926f1"
      },
      "execution_count": 53,
      "outputs": [
        {
          "output_type": "stream",
          "name": "stdout",
          "text": [
            "[1. 0. 0. 0. 2. 0. 0. 0. 3. 0. 0. 0. 4. 0. 0. 0. 5.]\n"
          ]
        }
      ]
    },
    {
      "cell_type": "code",
      "source": [
        "A = np.ones((5,5,3))\n",
        "B = 2*np.ones((5,5))\n",
        "print(A * B[:,:,None])"
      ],
      "metadata": {
        "colab": {
          "base_uri": "https://localhost:8080/"
        },
        "id": "MVPOh-kcERwf",
        "outputId": "17bb3310-de39-4cad-b029-98515dc3f136"
      },
      "execution_count": 54,
      "outputs": [
        {
          "output_type": "stream",
          "name": "stdout",
          "text": [
            "[[[2. 2. 2.]\n",
            "  [2. 2. 2.]\n",
            "  [2. 2. 2.]\n",
            "  [2. 2. 2.]\n",
            "  [2. 2. 2.]]\n",
            "\n",
            " [[2. 2. 2.]\n",
            "  [2. 2. 2.]\n",
            "  [2. 2. 2.]\n",
            "  [2. 2. 2.]\n",
            "  [2. 2. 2.]]\n",
            "\n",
            " [[2. 2. 2.]\n",
            "  [2. 2. 2.]\n",
            "  [2. 2. 2.]\n",
            "  [2. 2. 2.]\n",
            "  [2. 2. 2.]]\n",
            "\n",
            " [[2. 2. 2.]\n",
            "  [2. 2. 2.]\n",
            "  [2. 2. 2.]\n",
            "  [2. 2. 2.]\n",
            "  [2. 2. 2.]]\n",
            "\n",
            " [[2. 2. 2.]\n",
            "  [2. 2. 2.]\n",
            "  [2. 2. 2.]\n",
            "  [2. 2. 2.]\n",
            "  [2. 2. 2.]]]\n"
          ]
        }
      ]
    },
    {
      "cell_type": "code",
      "source": [
        "A = np.arange(25).reshape(5,5)\n",
        "A[[0,1]] = A[[1,0]]\n",
        "print(A)"
      ],
      "metadata": {
        "colab": {
          "base_uri": "https://localhost:8080/"
        },
        "id": "74Uw60tOEXhh",
        "outputId": "759cb44d-751f-4273-9dc7-5b7059f33f6c"
      },
      "execution_count": 55,
      "outputs": [
        {
          "output_type": "stream",
          "name": "stdout",
          "text": [
            "[[ 5  6  7  8  9]\n",
            " [ 0  1  2  3  4]\n",
            " [10 11 12 13 14]\n",
            " [15 16 17 18 19]\n",
            " [20 21 22 23 24]]\n"
          ]
        }
      ]
    },
    {
      "cell_type": "code",
      "source": [
        "faces = np.random.randint(0,100,(10,3))\n",
        "F = np.roll(faces.repeat(2,axis=1),-1,axis=1)\n",
        "F = F.reshape(len(F)*3,2)\n",
        "F = np.sort(F,axis=1)\n",
        "G = F.view( dtype=[('p0',F.dtype),('p1',F.dtype)] )\n",
        "G = np.unique(G)\n",
        "print(G)"
      ],
      "metadata": {
        "colab": {
          "base_uri": "https://localhost:8080/"
        },
        "id": "T1mMYx0NExKS",
        "outputId": "b5ff3325-7a3e-46eb-f335-bd7208ac5f4f"
      },
      "execution_count": 56,
      "outputs": [
        {
          "output_type": "stream",
          "name": "stdout",
          "text": [
            "[( 0, 30) ( 0, 33) ( 9, 11) ( 9, 19) (11, 19) (11, 56) (11, 58) (16, 72)\n",
            " (16, 76) (29, 46) (29, 83) (30, 33) (31, 32) (31, 65) (32, 65) (33, 61)\n",
            " (33, 99) (35, 55) (35, 95) (44, 53) (44, 71) (46, 83) (53, 71) (55, 95)\n",
            " (56, 58) (57, 61) (57, 85) (61, 85) (61, 99) (72, 76)]\n"
          ]
        }
      ]
    },
    {
      "cell_type": "code",
      "source": [
        "C = np.bincount([1,1,2,3,4,4,6])\n",
        "A = np.repeat(np.arange(len(C)), C)\n",
        "print(A)"
      ],
      "metadata": {
        "colab": {
          "base_uri": "https://localhost:8080/"
        },
        "id": "inOwnW6GE522",
        "outputId": "0003dd80-8619-42a6-afca-ec0b777b4276"
      },
      "execution_count": 57,
      "outputs": [
        {
          "output_type": "stream",
          "name": "stdout",
          "text": [
            "[1 1 2 3 4 4 6]\n"
          ]
        }
      ]
    },
    {
      "cell_type": "code",
      "source": [
        "def moving_average(a, n=3) :\n",
        "    ret = np.cumsum(a, dtype=float)\n",
        "    ret[n:] = ret[n:] - ret[:-n]\n",
        "    return ret[n - 1:] / n\n",
        "Z = np.arange(20)\n",
        "print(moving_average(Z, n=3))\n",
        "\n",
        "from numpy.lib.stride_tricks import sliding_window_view\n",
        "\n",
        "Z = np.arange(20)\n",
        "print(sliding_window_view(Z, window_shape=3).mean(axis=-1))"
      ],
      "metadata": {
        "colab": {
          "base_uri": "https://localhost:8080/"
        },
        "id": "xkVWzi5cbhO9",
        "outputId": "a9eff1cc-06b2-43d3-b992-641f727a15b6"
      },
      "execution_count": 3,
      "outputs": [
        {
          "output_type": "stream",
          "name": "stdout",
          "text": [
            "[ 1.  2.  3.  4.  5.  6.  7.  8.  9. 10. 11. 12. 13. 14. 15. 16. 17. 18.]\n",
            "[ 1.  2.  3.  4.  5.  6.  7.  8.  9. 10. 11. 12. 13. 14. 15. 16. 17. 18.]\n"
          ]
        }
      ]
    },
    {
      "cell_type": "code",
      "source": [
        "from numpy.lib import stride_tricks\n",
        "\n",
        "def rolling(a, window):\n",
        "    shape = (a.size - window + 1, window)\n",
        "    strides = (a.strides[0], a.strides[0])\n",
        "    return stride_tricks.as_strided(a, shape=shape, strides=strides)\n",
        "Z = rolling(np.arange(10), 3)\n",
        "print(Z)\n",
        "\n",
        "\n",
        "Z = np.arange(10)\n",
        "print(sliding_window_view(Z, window_shape=3))"
      ],
      "metadata": {
        "colab": {
          "base_uri": "https://localhost:8080/"
        },
        "id": "rDyoKzZWbx3M",
        "outputId": "19fc5933-1a91-461b-9998-f102808b917d"
      },
      "execution_count": 4,
      "outputs": [
        {
          "output_type": "stream",
          "name": "stdout",
          "text": [
            "[[0 1 2]\n",
            " [1 2 3]\n",
            " [2 3 4]\n",
            " [3 4 5]\n",
            " [4 5 6]\n",
            " [5 6 7]\n",
            " [6 7 8]\n",
            " [7 8 9]]\n",
            "[[0 1 2]\n",
            " [1 2 3]\n",
            " [2 3 4]\n",
            " [3 4 5]\n",
            " [4 5 6]\n",
            " [5 6 7]\n",
            " [6 7 8]\n",
            " [7 8 9]]\n"
          ]
        }
      ]
    },
    {
      "cell_type": "code",
      "source": [
        "Z = np.random.randint(0,2,100)\n",
        "np.logical_not(Z, out=Z)\n",
        "\n",
        "Z = np.random.uniform(-1.0,1.0,100)\n",
        "np.negative(Z, out=Z)"
      ],
      "metadata": {
        "colab": {
          "base_uri": "https://localhost:8080/"
        },
        "id": "X-Lw-JIkb5C6",
        "outputId": "6eca0a76-1c85-4dbe-b839-0d0242396c0f"
      },
      "execution_count": 5,
      "outputs": [
        {
          "output_type": "execute_result",
          "data": {
            "text/plain": [
              "array([-0.11725856,  0.72963091, -0.4175074 , -0.3736513 , -0.01784048,\n",
              "        0.25441341,  0.95094955, -0.93542278,  0.54071548,  0.54476531,\n",
              "        0.11833325, -0.16211164, -0.55008951,  0.62798761, -0.48678026,\n",
              "        0.19809701,  0.77182101,  0.95628489, -0.1073574 , -0.14784183,\n",
              "       -0.9203047 , -0.63241671,  0.17000701, -0.99944332, -0.1170025 ,\n",
              "       -0.35015318,  0.73833127, -0.09821838,  0.75233486,  0.24490779,\n",
              "       -0.71605242, -0.3726384 , -0.96597754,  0.66726002, -0.85504253,\n",
              "        0.43641934, -0.14057841,  0.74238101, -0.97816875,  0.9091496 ,\n",
              "       -0.07407654,  0.1123939 , -0.78155337,  0.37540815, -0.10853958,\n",
              "       -0.17113579,  0.19777028,  0.07444114, -0.42368417,  0.17494383,\n",
              "       -0.69061001,  0.42216325,  0.56887935, -0.0477086 ,  0.11266823,\n",
              "       -0.28194829,  0.23621302,  0.86617314,  0.69663986,  0.8190167 ,\n",
              "       -0.60959344, -0.48959474, -0.04956268,  0.72385794,  0.52872532,\n",
              "       -0.36140827, -0.37787089,  0.82179205,  0.87563123,  0.91400074,\n",
              "        0.70691601,  0.24535417, -0.97396258, -0.69707786,  0.14458949,\n",
              "       -0.50981001, -0.18778785,  0.13439768, -0.77777952,  0.57108666,\n",
              "       -0.29899176,  0.39280672,  0.16012929,  0.95592001,  0.4444895 ,\n",
              "       -0.47735207, -0.34234125, -0.76874997,  0.54185934, -0.90499575,\n",
              "       -0.96373161, -0.5418317 ,  0.29404853,  0.49672866, -0.73258014,\n",
              "       -0.20530219, -0.21382495,  0.55898193,  0.44679016,  0.23029878])"
            ]
          },
          "metadata": {},
          "execution_count": 5
        }
      ]
    },
    {
      "cell_type": "code",
      "source": [
        "def distance(P0, P1, p):\n",
        "    T = P1 - P0\n",
        "    L = (T**2).sum(axis=1)\n",
        "    U = -((P0[:,0]-p[...,0])*T[:,0] + (P0[:,1]-p[...,1])*T[:,1]) / L\n",
        "    U = U.reshape(len(U),1)\n",
        "    D = P0 + U*T - p\n",
        "    return np.sqrt((D**2).sum(axis=1))\n",
        "\n",
        "P0 = np.random.uniform(-10,10,(10,2))\n",
        "P1 = np.random.uniform(-10,10,(10,2))\n",
        "p  = np.random.uniform(-10,10,( 1,2))\n",
        "print(distance(P0, P1, p))"
      ],
      "metadata": {
        "colab": {
          "base_uri": "https://localhost:8080/"
        },
        "id": "3YVt66CAb__g",
        "outputId": "de8aafb1-4505-483d-b94c-a417f5d39011"
      },
      "execution_count": 6,
      "outputs": [
        {
          "output_type": "stream",
          "name": "stdout",
          "text": [
            "[ 2.80490926 12.441081    3.87121867  5.60771847  1.19045356  4.1189179\n",
            "  3.03918846  6.19368445  7.41596107 13.56373547]\n"
          ]
        }
      ]
    },
    {
      "cell_type": "code",
      "source": [
        "P0 = np.random.uniform(-10, 10, (10,2))\n",
        "P1 = np.random.uniform(-10,10,(10,2))\n",
        "p = np.random.uniform(-10, 10, (10,2))\n",
        "print(np.array([distance(P0,P1,p_i) for p_i in p]))"
      ],
      "metadata": {
        "colab": {
          "base_uri": "https://localhost:8080/"
        },
        "id": "jd6TopERcK7I",
        "outputId": "0db2e094-75f6-4dbd-f19b-e2ec00a08c08"
      },
      "execution_count": 7,
      "outputs": [
        {
          "output_type": "stream",
          "name": "stdout",
          "text": [
            "[[1.03387546e+01 1.88666324e+01 1.30166882e+01 1.60741899e+01\n",
            "  1.16068177e+01 5.40799819e+00 6.14055511e+00 1.95294112e-01\n",
            "  9.03544228e-01 2.00612342e+00]\n",
            " [8.49419484e+00 2.13796180e-01 2.22266905e+00 3.38928655e-02\n",
            "  4.98864430e+00 9.24518991e+00 1.60090525e+00 9.20102962e+00\n",
            "  1.07341960e+01 1.20561015e+01]\n",
            " [8.83330145e+00 1.31460787e+00 9.76907607e+00 6.63796757e+00\n",
            "  1.09588800e+01 4.10524618e+00 1.37160415e+01 2.79367775e+00\n",
            "  1.08852801e+00 2.63857077e+00]\n",
            " [3.77695051e-01 8.40511018e+00 1.32364550e+00 4.40159642e+00\n",
            "  3.92505133e-03 7.33895784e-01 3.93645300e+00 1.30183538e+00\n",
            "  1.08732977e-01 6.00654347e-01]\n",
            " [2.63689938e+00 1.06701708e+01 3.31922687e+00 6.47278688e+00\n",
            "  2.11747538e+00 5.82620198e-01 2.73199974e+00 2.14890112e+00\n",
            "  7.94215306e-01 8.63548181e-01]\n",
            " [5.83219695e+00 1.81059303e+00 6.40887501e+00 3.26403557e+00\n",
            "  7.58765901e+00 2.99729684e+00 1.09479782e+01 2.73247974e+00\n",
            "  1.11757578e+00 1.63679453e+00]\n",
            " [8.39676241e+00 1.51519759e-01 4.95994454e+00 2.35498208e+00\n",
            "  7.09906871e+00 4.02856694e+00 6.19851377e+00 4.44189497e+00\n",
            "  6.03638714e+00 8.23831578e+00]\n",
            " [4.22411434e+00 1.19766231e+01 2.98407732e+00 6.40311581e+00\n",
            "  2.25307338e+00 2.72934934e+00 4.74660040e+00 5.64975320e+00\n",
            "  4.29511233e+00 4.20239995e+00]\n",
            " [4.56368291e+00 1.33142314e+01 9.36461249e+00 1.20516920e+01\n",
            "  7.31416444e+00 8.46884017e+00 5.44811992e+00 4.39394260e+00\n",
            "  5.60291705e+00 3.66384485e+00]\n",
            " [6.07334757e+00 1.78349667e+00 5.31279034e+00 2.33605228e+00\n",
            "  6.79314017e+00 5.65385940e-01 8.92068777e+00 4.52336021e-01\n",
            "  1.13898057e+00 3.53399693e+00]]\n"
          ]
        }
      ]
    },
    {
      "cell_type": "code",
      "source": [
        "Z = np.random.randint(0,10,(10,10))\n",
        "shape = (5,5)\n",
        "fill  = 0\n",
        "position = (1,1)\n",
        "\n",
        "R = np.ones(shape, dtype=Z.dtype)*fill\n",
        "P  = np.array(list(position)).astype(int)\n",
        "Rs = np.array(list(R.shape)).astype(int)\n",
        "Zs = np.array(list(Z.shape)).astype(int)\n",
        "\n",
        "R_start = np.zeros((len(shape),)).astype(int)\n",
        "R_stop  = np.array(list(shape)).astype(int)\n",
        "Z_start = (P-Rs//2)\n",
        "Z_stop  = (P+Rs//2)+Rs%2\n",
        "\n",
        "R_start = (R_start - np.minimum(Z_start,0)).tolist()\n",
        "Z_start = (np.maximum(Z_start,0)).tolist()\n",
        "R_stop = np.maximum(R_start, (R_stop - np.maximum(Z_stop-Zs,0))).tolist()\n",
        "Z_stop = (np.minimum(Z_stop,Zs)).tolist()\n",
        "\n",
        "r = [slice(start,stop) for start,stop in zip(R_start,R_stop)]\n",
        "z = [slice(start,stop) for start,stop in zip(Z_start,Z_stop)]\n",
        "R[r] = Z[z]\n",
        "print(Z)\n",
        "print(R)"
      ],
      "metadata": {
        "colab": {
          "base_uri": "https://localhost:8080/"
        },
        "id": "9pUQ_lqkcTpa",
        "outputId": "ce0f0b20-ba4d-47fd-b547-d9ce9896edc4"
      },
      "execution_count": 8,
      "outputs": [
        {
          "output_type": "stream",
          "name": "stdout",
          "text": [
            "[[2 2 4 0 6 4 4 4 0 5]\n",
            " [5 8 7 4 0 7 5 6 0 0]\n",
            " [0 5 2 6 6 4 0 7 3 9]\n",
            " [8 6 3 5 5 5 2 9 6 0]\n",
            " [9 6 5 3 8 1 9 5 3 1]\n",
            " [9 9 5 2 6 4 3 7 5 6]\n",
            " [0 6 9 2 3 6 9 8 0 7]\n",
            " [8 2 8 5 3 8 4 7 9 4]\n",
            " [3 4 5 0 1 7 9 2 1 6]\n",
            " [6 1 1 9 3 3 6 5 3 7]]\n",
            "[[0 0 0 0 0]\n",
            " [0 2 2 4 0]\n",
            " [0 5 8 7 4]\n",
            " [0 0 5 2 6]\n",
            " [0 8 6 3 5]]\n"
          ]
        },
        {
          "output_type": "stream",
          "name": "stderr",
          "text": [
            "/usr/local/lib/python3.7/dist-packages/ipykernel_launcher.py:23: FutureWarning: Using a non-tuple sequence for multidimensional indexing is deprecated; use `arr[tuple(seq)]` instead of `arr[seq]`. In the future this will be interpreted as an array index, `arr[np.array(seq)]`, which will result either in an error or a different result.\n"
          ]
        }
      ]
    },
    {
      "cell_type": "code",
      "source": [
        "Z = np.arange(1,15,dtype=np.uint32)\n",
        "R = stride_tricks.as_strided(Z,(11,4),(4,4))\n",
        "print(R)\n",
        "\n",
        "\n",
        "Z = np.arange(1, 15, dtype=np.uint32)\n",
        "print(sliding_window_view(Z, window_shape=4))"
      ],
      "metadata": {
        "colab": {
          "base_uri": "https://localhost:8080/"
        },
        "id": "CyqjlulvcVY9",
        "outputId": "dea5237b-fc50-4612-e08b-85ee4ccf87fa"
      },
      "execution_count": 9,
      "outputs": [
        {
          "output_type": "stream",
          "name": "stdout",
          "text": [
            "[[ 1  2  3  4]\n",
            " [ 2  3  4  5]\n",
            " [ 3  4  5  6]\n",
            " [ 4  5  6  7]\n",
            " [ 5  6  7  8]\n",
            " [ 6  7  8  9]\n",
            " [ 7  8  9 10]\n",
            " [ 8  9 10 11]\n",
            " [ 9 10 11 12]\n",
            " [10 11 12 13]\n",
            " [11 12 13 14]]\n",
            "[[ 1  2  3  4]\n",
            " [ 2  3  4  5]\n",
            " [ 3  4  5  6]\n",
            " [ 4  5  6  7]\n",
            " [ 5  6  7  8]\n",
            " [ 6  7  8  9]\n",
            " [ 7  8  9 10]\n",
            " [ 8  9 10 11]\n",
            " [ 9 10 11 12]\n",
            " [10 11 12 13]\n",
            " [11 12 13 14]]\n"
          ]
        }
      ]
    },
    {
      "cell_type": "code",
      "source": [
        "Z = np.random.uniform(0,1,(10,10))\n",
        "U, S, V = np.linalg.svd(Z) # Singular Value Decomposition\n",
        "rank = np.sum(S > 1e-10)\n",
        "print(rank)"
      ],
      "metadata": {
        "colab": {
          "base_uri": "https://localhost:8080/"
        },
        "id": "WKWN0QelcmGv",
        "outputId": "08cce5ef-656a-4fca-961a-6c1819f7754b"
      },
      "execution_count": 10,
      "outputs": [
        {
          "output_type": "stream",
          "name": "stdout",
          "text": [
            "10\n"
          ]
        }
      ]
    },
    {
      "cell_type": "code",
      "source": [
        "Z = np.random.randint(0,10,50)\n",
        "print(np.bincount(Z).argmax())"
      ],
      "metadata": {
        "colab": {
          "base_uri": "https://localhost:8080/"
        },
        "id": "qaAQBEP-d05o",
        "outputId": "1a3f77e6-0757-4176-9faf-1d70151c94f1"
      },
      "execution_count": 11,
      "outputs": [
        {
          "output_type": "stream",
          "name": "stdout",
          "text": [
            "1\n"
          ]
        }
      ]
    },
    {
      "cell_type": "code",
      "source": [
        "Z = np.random.randint(0,5,(10,10))\n",
        "n = 3\n",
        "i = 1 + (Z.shape[0]-3)\n",
        "j = 1 + (Z.shape[1]-3)\n",
        "C = stride_tricks.as_strided(Z, shape=(i, j, n, n), strides=Z.strides + Z.strides)\n",
        "print(C)\n"
      ],
      "metadata": {
        "colab": {
          "base_uri": "https://localhost:8080/"
        },
        "id": "takllw3ad5jm",
        "outputId": "9a3e54b9-5e65-436b-b7fb-723c377a6f4a"
      },
      "execution_count": 12,
      "outputs": [
        {
          "output_type": "stream",
          "name": "stdout",
          "text": [
            "[[[[2 0 3]\n",
            "   [3 2 3]\n",
            "   [1 2 0]]\n",
            "\n",
            "  [[0 3 4]\n",
            "   [2 3 1]\n",
            "   [2 0 2]]\n",
            "\n",
            "  [[3 4 3]\n",
            "   [3 1 3]\n",
            "   [0 2 3]]\n",
            "\n",
            "  [[4 3 1]\n",
            "   [1 3 4]\n",
            "   [2 3 4]]\n",
            "\n",
            "  [[3 1 1]\n",
            "   [3 4 0]\n",
            "   [3 4 0]]\n",
            "\n",
            "  [[1 1 0]\n",
            "   [4 0 4]\n",
            "   [4 0 0]]\n",
            "\n",
            "  [[1 0 3]\n",
            "   [0 4 0]\n",
            "   [0 0 1]]\n",
            "\n",
            "  [[0 3 3]\n",
            "   [4 0 2]\n",
            "   [0 1 4]]]\n",
            "\n",
            "\n",
            " [[[3 2 3]\n",
            "   [1 2 0]\n",
            "   [2 0 2]]\n",
            "\n",
            "  [[2 3 1]\n",
            "   [2 0 2]\n",
            "   [0 2 3]]\n",
            "\n",
            "  [[3 1 3]\n",
            "   [0 2 3]\n",
            "   [2 3 1]]\n",
            "\n",
            "  [[1 3 4]\n",
            "   [2 3 4]\n",
            "   [3 1 3]]\n",
            "\n",
            "  [[3 4 0]\n",
            "   [3 4 0]\n",
            "   [1 3 1]]\n",
            "\n",
            "  [[4 0 4]\n",
            "   [4 0 0]\n",
            "   [3 1 3]]\n",
            "\n",
            "  [[0 4 0]\n",
            "   [0 0 1]\n",
            "   [1 3 3]]\n",
            "\n",
            "  [[4 0 2]\n",
            "   [0 1 4]\n",
            "   [3 3 0]]]\n",
            "\n",
            "\n",
            " [[[1 2 0]\n",
            "   [2 0 2]\n",
            "   [3 0 3]]\n",
            "\n",
            "  [[2 0 2]\n",
            "   [0 2 3]\n",
            "   [0 3 3]]\n",
            "\n",
            "  [[0 2 3]\n",
            "   [2 3 1]\n",
            "   [3 3 2]]\n",
            "\n",
            "  [[2 3 4]\n",
            "   [3 1 3]\n",
            "   [3 2 1]]\n",
            "\n",
            "  [[3 4 0]\n",
            "   [1 3 1]\n",
            "   [2 1 4]]\n",
            "\n",
            "  [[4 0 0]\n",
            "   [3 1 3]\n",
            "   [1 4 2]]\n",
            "\n",
            "  [[0 0 1]\n",
            "   [1 3 3]\n",
            "   [4 2 0]]\n",
            "\n",
            "  [[0 1 4]\n",
            "   [3 3 0]\n",
            "   [2 0 4]]]\n",
            "\n",
            "\n",
            " [[[2 0 2]\n",
            "   [3 0 3]\n",
            "   [2 0 1]]\n",
            "\n",
            "  [[0 2 3]\n",
            "   [0 3 3]\n",
            "   [0 1 4]]\n",
            "\n",
            "  [[2 3 1]\n",
            "   [3 3 2]\n",
            "   [1 4 4]]\n",
            "\n",
            "  [[3 1 3]\n",
            "   [3 2 1]\n",
            "   [4 4 2]]\n",
            "\n",
            "  [[1 3 1]\n",
            "   [2 1 4]\n",
            "   [4 2 1]]\n",
            "\n",
            "  [[3 1 3]\n",
            "   [1 4 2]\n",
            "   [2 1 4]]\n",
            "\n",
            "  [[1 3 3]\n",
            "   [4 2 0]\n",
            "   [1 4 0]]\n",
            "\n",
            "  [[3 3 0]\n",
            "   [2 0 4]\n",
            "   [4 0 1]]]\n",
            "\n",
            "\n",
            " [[[3 0 3]\n",
            "   [2 0 1]\n",
            "   [2 2 0]]\n",
            "\n",
            "  [[0 3 3]\n",
            "   [0 1 4]\n",
            "   [2 0 1]]\n",
            "\n",
            "  [[3 3 2]\n",
            "   [1 4 4]\n",
            "   [0 1 0]]\n",
            "\n",
            "  [[3 2 1]\n",
            "   [4 4 2]\n",
            "   [1 0 4]]\n",
            "\n",
            "  [[2 1 4]\n",
            "   [4 2 1]\n",
            "   [0 4 1]]\n",
            "\n",
            "  [[1 4 2]\n",
            "   [2 1 4]\n",
            "   [4 1 3]]\n",
            "\n",
            "  [[4 2 0]\n",
            "   [1 4 0]\n",
            "   [1 3 2]]\n",
            "\n",
            "  [[2 0 4]\n",
            "   [4 0 1]\n",
            "   [3 2 2]]]\n",
            "\n",
            "\n",
            " [[[2 0 1]\n",
            "   [2 2 0]\n",
            "   [3 1 0]]\n",
            "\n",
            "  [[0 1 4]\n",
            "   [2 0 1]\n",
            "   [1 0 0]]\n",
            "\n",
            "  [[1 4 4]\n",
            "   [0 1 0]\n",
            "   [0 0 4]]\n",
            "\n",
            "  [[4 4 2]\n",
            "   [1 0 4]\n",
            "   [0 4 1]]\n",
            "\n",
            "  [[4 2 1]\n",
            "   [0 4 1]\n",
            "   [4 1 2]]\n",
            "\n",
            "  [[2 1 4]\n",
            "   [4 1 3]\n",
            "   [1 2 3]]\n",
            "\n",
            "  [[1 4 0]\n",
            "   [1 3 2]\n",
            "   [2 3 0]]\n",
            "\n",
            "  [[4 0 1]\n",
            "   [3 2 2]\n",
            "   [3 0 0]]]\n",
            "\n",
            "\n",
            " [[[2 2 0]\n",
            "   [3 1 0]\n",
            "   [2 1 2]]\n",
            "\n",
            "  [[2 0 1]\n",
            "   [1 0 0]\n",
            "   [1 2 0]]\n",
            "\n",
            "  [[0 1 0]\n",
            "   [0 0 4]\n",
            "   [2 0 2]]\n",
            "\n",
            "  [[1 0 4]\n",
            "   [0 4 1]\n",
            "   [0 2 4]]\n",
            "\n",
            "  [[0 4 1]\n",
            "   [4 1 2]\n",
            "   [2 4 4]]\n",
            "\n",
            "  [[4 1 3]\n",
            "   [1 2 3]\n",
            "   [4 4 4]]\n",
            "\n",
            "  [[1 3 2]\n",
            "   [2 3 0]\n",
            "   [4 4 3]]\n",
            "\n",
            "  [[3 2 2]\n",
            "   [3 0 0]\n",
            "   [4 3 1]]]\n",
            "\n",
            "\n",
            " [[[3 1 0]\n",
            "   [2 1 2]\n",
            "   [0 3 0]]\n",
            "\n",
            "  [[1 0 0]\n",
            "   [1 2 0]\n",
            "   [3 0 0]]\n",
            "\n",
            "  [[0 0 4]\n",
            "   [2 0 2]\n",
            "   [0 0 1]]\n",
            "\n",
            "  [[0 4 1]\n",
            "   [0 2 4]\n",
            "   [0 1 1]]\n",
            "\n",
            "  [[4 1 2]\n",
            "   [2 4 4]\n",
            "   [1 1 3]]\n",
            "\n",
            "  [[1 2 3]\n",
            "   [4 4 4]\n",
            "   [1 3 4]]\n",
            "\n",
            "  [[2 3 0]\n",
            "   [4 4 3]\n",
            "   [3 4 1]]\n",
            "\n",
            "  [[3 0 0]\n",
            "   [4 3 1]\n",
            "   [4 1 4]]]]\n"
          ]
        }
      ]
    },
    {
      "cell_type": "code",
      "source": [
        "class Symetric(np.ndarray):\n",
        "    def __setitem__(self, index, value):\n",
        "        i,j = index\n",
        "        super(Symetric, self).__setitem__((i,j), value)\n",
        "        super(Symetric, self).__setitem__((j,i), value)\n",
        "\n",
        "def symetric(Z):\n",
        "    return np.asarray(Z + Z.T - np.diag(Z.diagonal())).view(Symetric)\n",
        "\n",
        "S = symetric(np.random.randint(0,10,(5,5)))\n",
        "S[2,3] = 42\n",
        "print(S)"
      ],
      "metadata": {
        "colab": {
          "base_uri": "https://localhost:8080/"
        },
        "id": "5YkyltSReBFc",
        "outputId": "0b9bfef3-384d-48e3-a021-98e82ed5d67a"
      },
      "execution_count": 13,
      "outputs": [
        {
          "output_type": "stream",
          "name": "stdout",
          "text": [
            "[[ 7 12 10  3  8]\n",
            " [12  3 10  6 10]\n",
            " [10 10  6 42 10]\n",
            " [ 3  6 42  8 16]\n",
            " [ 8 10 10 16  9]]\n"
          ]
        }
      ]
    },
    {
      "cell_type": "code",
      "source": [
        "p, n = 10, 20\n",
        "M = np.ones((p,n,n))\n",
        "V = np.ones((p,n,1))\n",
        "S = np.tensordot(M, V, axes=[[0, 2], [0, 1]])\n",
        "print(S)"
      ],
      "metadata": {
        "colab": {
          "base_uri": "https://localhost:8080/"
        },
        "id": "rmkay74MeKr1",
        "outputId": "b2aa320e-caa6-4fcb-ad47-b04be0e0081d"
      },
      "execution_count": 14,
      "outputs": [
        {
          "output_type": "stream",
          "name": "stdout",
          "text": [
            "[[200.]\n",
            " [200.]\n",
            " [200.]\n",
            " [200.]\n",
            " [200.]\n",
            " [200.]\n",
            " [200.]\n",
            " [200.]\n",
            " [200.]\n",
            " [200.]\n",
            " [200.]\n",
            " [200.]\n",
            " [200.]\n",
            " [200.]\n",
            " [200.]\n",
            " [200.]\n",
            " [200.]\n",
            " [200.]\n",
            " [200.]\n",
            " [200.]]\n"
          ]
        }
      ]
    },
    {
      "cell_type": "code",
      "source": [
        "Z = np.ones((16,16))\n",
        "k = 4\n",
        "S = np.add.reduceat(np.add.reduceat(Z, np.arange(0, Z.shape[0], k), axis=0),\n",
        "                                       np.arange(0, Z.shape[1], k), axis=1)\n",
        "print(S)"
      ],
      "metadata": {
        "colab": {
          "base_uri": "https://localhost:8080/"
        },
        "id": "mwBRFrHSgK89",
        "outputId": "88057e4c-89d6-4054-b93e-f90653c8a59d"
      },
      "execution_count": 15,
      "outputs": [
        {
          "output_type": "stream",
          "name": "stdout",
          "text": [
            "[[16. 16. 16. 16.]\n",
            " [16. 16. 16. 16.]\n",
            " [16. 16. 16. 16.]\n",
            " [16. 16. 16. 16.]]\n"
          ]
        }
      ]
    },
    {
      "cell_type": "code",
      "source": [
        "def iterate(Z):\n",
        "    # Count neighbours\n",
        "    N = (Z[0:-2,0:-2] + Z[0:-2,1:-1] + Z[0:-2,2:] +\n",
        "         Z[1:-1,0:-2]                + Z[1:-1,2:] +\n",
        "         Z[2:  ,0:-2] + Z[2:  ,1:-1] + Z[2:  ,2:])\n",
        "\n",
        "    # Apply rules\n",
        "    birth = (N==3) & (Z[1:-1,1:-1]==0)\n",
        "    survive = ((N==2) | (N==3)) & (Z[1:-1,1:-1]==1)\n",
        "    Z[...] = 0\n",
        "    Z[1:-1,1:-1][birth | survive] = 1\n",
        "    return Z\n",
        "\n",
        "Z = np.random.randint(0,2,(50,50))\n",
        "for i in range(100): Z = iterate(Z)\n",
        "print(Z)"
      ],
      "metadata": {
        "colab": {
          "base_uri": "https://localhost:8080/"
        },
        "id": "Qg43iMkYgUZn",
        "outputId": "acdb478e-e601-4ed4-9a3f-19ef196d690f"
      },
      "execution_count": 16,
      "outputs": [
        {
          "output_type": "stream",
          "name": "stdout",
          "text": [
            "[[0 0 0 ... 0 0 0]\n",
            " [0 0 0 ... 0 0 0]\n",
            " [0 0 0 ... 0 0 0]\n",
            " ...\n",
            " [0 0 0 ... 1 0 0]\n",
            " [0 0 0 ... 1 0 0]\n",
            " [0 0 0 ... 0 0 0]]\n"
          ]
        }
      ]
    },
    {
      "cell_type": "code",
      "source": [
        "Z = np.arange(10000)\n",
        "np.random.shuffle(Z)\n",
        "n = 5\n",
        "print (Z[np.argpartition(-Z,n)[:n]])"
      ],
      "metadata": {
        "colab": {
          "base_uri": "https://localhost:8080/"
        },
        "id": "WOoSea7VguRd",
        "outputId": "9e5912c6-9d74-4844-b02e-0e346757afd4"
      },
      "execution_count": 17,
      "outputs": [
        {
          "output_type": "stream",
          "name": "stdout",
          "text": [
            "[9997 9999 9998 9996 9995]\n"
          ]
        }
      ]
    },
    {
      "cell_type": "code",
      "source": [
        "def cartesian(arrays):\n",
        "    arrays = [np.asarray(a) for a in arrays]\n",
        "    shape = (len(x) for x in arrays)\n",
        "\n",
        "    ix = np.indices(shape, dtype=int)\n",
        "    ix = ix.reshape(len(arrays), -1).T\n",
        "\n",
        "    for n, arr in enumerate(arrays):\n",
        "        ix[:, n] = arrays[n][ix[:, n]]\n",
        "\n",
        "    return ix\n",
        "\n",
        "print (cartesian(([1, 2, 3], [4, 5], [6, 7])))"
      ],
      "metadata": {
        "colab": {
          "base_uri": "https://localhost:8080/"
        },
        "id": "fOvq3FMEg9gO",
        "outputId": "cff69552-d5d2-4f28-afee-1323ac65de8e"
      },
      "execution_count": 18,
      "outputs": [
        {
          "output_type": "stream",
          "name": "stdout",
          "text": [
            "[[1 4 6]\n",
            " [1 4 7]\n",
            " [1 5 6]\n",
            " [1 5 7]\n",
            " [2 4 6]\n",
            " [2 4 7]\n",
            " [2 5 6]\n",
            " [2 5 7]\n",
            " [3 4 6]\n",
            " [3 4 7]\n",
            " [3 5 6]\n",
            " [3 5 7]]\n"
          ]
        }
      ]
    },
    {
      "cell_type": "code",
      "source": [
        "Z = np.array([(\"Hello\", 2.5, 3),\n",
        "              (\"World\", 3.6, 2)])\n",
        "R = np.core.records.fromarrays(Z.T,\n",
        "                               names='col1, col2, col3',\n",
        "                               formats = 'S8, f8, i8')\n",
        "print(R)"
      ],
      "metadata": {
        "colab": {
          "base_uri": "https://localhost:8080/"
        },
        "id": "8SMhOMF-iD47",
        "outputId": "bf421405-3e96-4b4e-92d2-6c92043c62c1"
      },
      "execution_count": 19,
      "outputs": [
        {
          "output_type": "stream",
          "name": "stdout",
          "text": [
            "[(b'Hello', 2.5, 3) (b'World', 3.6, 2)]\n"
          ]
        }
      ]
    },
    {
      "cell_type": "code",
      "source": [
        "x = np.random.rand(int(5e7))\n",
        "\n",
        "%timeit np.power(x,3)\n",
        "%timeit x*x*x\n",
        "%timeit np.einsum('i,i,i->i',x,x,x)"
      ],
      "metadata": {
        "colab": {
          "base_uri": "https://localhost:8080/"
        },
        "id": "UgUdbWRMid0K",
        "outputId": "6882819a-56d6-4797-916c-c178c8e13c4a"
      },
      "execution_count": 20,
      "outputs": [
        {
          "output_type": "stream",
          "name": "stdout",
          "text": [
            "3.94 s ± 210 ms per loop (mean ± std. dev. of 7 runs, 1 loop each)\n",
            "162 ms ± 7.63 ms per loop (mean ± std. dev. of 7 runs, 10 loops each)\n",
            "139 ms ± 10.3 ms per loop (mean ± std. dev. of 7 runs, 10 loops each)\n"
          ]
        }
      ]
    },
    {
      "cell_type": "code",
      "source": [
        "A = np.random.randint(0,5,(8,3))\n",
        "B = np.random.randint(0,5,(2,2))\n",
        "\n",
        "C = (A[..., np.newaxis, np.newaxis] == B)\n",
        "rows = np.where(C.any((3,1)).all(1))[0]\n",
        "print(rows)"
      ],
      "metadata": {
        "colab": {
          "base_uri": "https://localhost:8080/"
        },
        "id": "1gIBIeYPiuHg",
        "outputId": "350998e5-e6b3-4b11-c3a1-7be0d927cd0a"
      },
      "execution_count": 21,
      "outputs": [
        {
          "output_type": "stream",
          "name": "stdout",
          "text": [
            "[1 5 6]\n"
          ]
        }
      ]
    },
    {
      "cell_type": "code",
      "source": [
        "Z = np.random.randint(0,5,(10,3))\n",
        "print(Z)\n",
        "# solution for arrays of all dtypes (including string arrays and record arrays)\n",
        "E = np.all(Z[:,1:] == Z[:,:-1], axis=1)\n",
        "U = Z[~E]\n",
        "print(U)\n",
        "# soluiton for numerical arrays only, will work for any number of columns in Z\n",
        "U = Z[Z.max(axis=1) != Z.min(axis=1),:]\n",
        "print(U)"
      ],
      "metadata": {
        "colab": {
          "base_uri": "https://localhost:8080/"
        },
        "id": "sOauCf_bje7u",
        "outputId": "d7e77680-23f4-42aa-fab6-b5f15657a5d4"
      },
      "execution_count": 22,
      "outputs": [
        {
          "output_type": "stream",
          "name": "stdout",
          "text": [
            "[[4 1 3]\n",
            " [0 2 2]\n",
            " [3 3 2]\n",
            " [2 1 4]\n",
            " [1 1 4]\n",
            " [4 0 0]\n",
            " [4 3 3]\n",
            " [1 0 2]\n",
            " [0 3 4]\n",
            " [4 3 4]]\n",
            "[[4 1 3]\n",
            " [0 2 2]\n",
            " [3 3 2]\n",
            " [2 1 4]\n",
            " [1 1 4]\n",
            " [4 0 0]\n",
            " [4 3 3]\n",
            " [1 0 2]\n",
            " [0 3 4]\n",
            " [4 3 4]]\n",
            "[[4 1 3]\n",
            " [0 2 2]\n",
            " [3 3 2]\n",
            " [2 1 4]\n",
            " [1 1 4]\n",
            " [4 0 0]\n",
            " [4 3 3]\n",
            " [1 0 2]\n",
            " [0 3 4]\n",
            " [4 3 4]]\n"
          ]
        }
      ]
    },
    {
      "cell_type": "code",
      "source": [
        "I = np.array([0, 1, 2, 3, 15, 16, 32, 64, 128])\n",
        "B = ((I.reshape(-1,1) & (2**np.arange(8))) != 0).astype(int)\n",
        "print(B[:,::-1])"
      ],
      "metadata": {
        "colab": {
          "base_uri": "https://localhost:8080/"
        },
        "id": "pbiBHjc1jfHQ",
        "outputId": "1bc25086-e7b1-4f6b-d7e2-01a49a4ba9d1"
      },
      "execution_count": 23,
      "outputs": [
        {
          "output_type": "stream",
          "name": "stdout",
          "text": [
            "[[0 0 0 0 0 0 0 0]\n",
            " [0 0 0 0 0 0 0 1]\n",
            " [0 0 0 0 0 0 1 0]\n",
            " [0 0 0 0 0 0 1 1]\n",
            " [0 0 0 0 1 1 1 1]\n",
            " [0 0 0 1 0 0 0 0]\n",
            " [0 0 1 0 0 0 0 0]\n",
            " [0 1 0 0 0 0 0 0]\n",
            " [1 0 0 0 0 0 0 0]]\n"
          ]
        }
      ]
    },
    {
      "cell_type": "code",
      "source": [
        "Z = np.random.randint(0,2,(6,3))\n",
        "T = np.ascontiguousarray(Z).view(np.dtype((np.void, Z.dtype.itemsize * Z.shape[1])))\n",
        "_, idx = np.unique(T, return_index=True)\n",
        "uZ = Z[idx]\n",
        "print(uZ)"
      ],
      "metadata": {
        "colab": {
          "base_uri": "https://localhost:8080/"
        },
        "id": "5rrxafwDkTeM",
        "outputId": "d318aa21-4495-48cb-f722-b495bea6b8ff"
      },
      "execution_count": 24,
      "outputs": [
        {
          "output_type": "stream",
          "name": "stdout",
          "text": [
            "[[0 1 0]\n",
            " [0 1 1]\n",
            " [1 0 1]\n",
            " [1 1 0]]\n"
          ]
        }
      ]
    },
    {
      "cell_type": "code",
      "source": [
        "A = np.random.uniform(0,1,10)\n",
        "B = np.random.uniform(0,1,10)\n",
        "\n",
        "np.einsum('i->', A)       # np.sum(A)\n",
        "np.einsum('i,i->i', A, B) # A * B\n",
        "np.einsum('i,i', A, B)    # np.inner(A, B)\n",
        "np.einsum('i,j->ij', A, B)    # np.outer(A, B)"
      ],
      "metadata": {
        "colab": {
          "base_uri": "https://localhost:8080/"
        },
        "id": "lz7oKMEPk7je",
        "outputId": "24d91960-7fd2-4194-a00d-3b2a4c4753ca"
      },
      "execution_count": 25,
      "outputs": [
        {
          "output_type": "execute_result",
          "data": {
            "text/plain": [
              "array([[2.36994711e-02, 3.85326305e-03, 6.28994830e-02, 4.77903370e-02,\n",
              "        1.47520699e-02, 1.64217090e-02, 3.17811992e-04, 1.67872428e-02,\n",
              "        4.17044541e-02, 8.23731687e-03],\n",
              "       [2.65840120e-01, 4.32225643e-02, 7.05551869e-01, 5.36070568e-01,\n",
              "        1.65475930e-01, 1.84204494e-01, 3.56493940e-03, 1.88304735e-01,\n",
              "        4.67804410e-01, 9.23990792e-02],\n",
              "       [1.75526264e-01, 2.85385638e-02, 4.65854754e-01, 3.53951330e-01,\n",
              "        1.09258797e-01, 1.21624707e-01, 2.35382265e-03, 1.24331973e-01,\n",
              "        3.08877232e-01, 6.10083428e-02],\n",
              "       [1.77779762e-01, 2.89049569e-02, 4.71835642e-01, 3.58495543e-01,\n",
              "        1.10661519e-01, 1.23186189e-01, 2.38404226e-03, 1.25928212e-01,\n",
              "        3.12842760e-01, 6.17915999e-02],\n",
              "       [1.85312970e-01, 3.01297703e-02, 4.91829119e-01, 3.73686368e-01,\n",
              "        1.15350670e-01, 1.28406058e-01, 2.48506323e-03, 1.31264271e-01,\n",
              "        3.26099102e-01, 6.44099459e-02],\n",
              "       [2.68813575e-01, 4.37060141e-02, 7.13443555e-01, 5.42066584e-01,\n",
              "        1.67326799e-01, 1.86264844e-01, 3.60481369e-03, 1.90410947e-01,\n",
              "        4.73036861e-01, 9.34325744e-02],\n",
              "       [1.62058972e-01, 2.63489361e-02, 4.30111943e-01, 3.26794334e-01,\n",
              "        1.00875892e-01, 1.12293024e-01, 2.17322507e-03, 1.14792575e-01,\n",
              "        2.85178557e-01, 5.63274639e-02],\n",
              "       [9.03548174e-02, 1.46906603e-02, 2.39805829e-01, 1.82201837e-01,\n",
              "        5.62426298e-02, 6.26081700e-02, 1.21166605e-03, 6.40017766e-02,\n",
              "        1.58999259e-01, 3.14049735e-02],\n",
              "       [2.85533174e-01, 4.64244297e-02, 7.57818138e-01, 5.75781905e-01,\n",
              "        1.77734149e-01, 1.97850098e-01, 3.82902499e-03, 2.02254079e-01,\n",
              "        5.02458688e-01, 9.92438702e-02],\n",
              "       [1.73509209e-01, 2.82106137e-02, 4.60501396e-01, 3.49883908e-01,\n",
              "        1.08003253e-01, 1.20227060e-01, 2.32677375e-03, 1.22903216e-01,\n",
              "        3.05327777e-01, 6.03072670e-02]])"
            ]
          },
          "metadata": {},
          "execution_count": 25
        }
      ]
    },
    {
      "cell_type": "code",
      "source": [
        "phi = np.arange(0, 10*np.pi, 0.1)\n",
        "a = 1\n",
        "x = a*phi*np.cos(phi)\n",
        "y = a*phi*np.sin(phi)\n",
        "\n",
        "dr = (np.diff(x)**2 + np.diff(y)**2)**.5 # segment lengths\n",
        "r = np.zeros_like(x)\n",
        "r[1:] = np.cumsum(dr)                # integrate path\n",
        "r_int = np.linspace(0, r.max(), 200) # regular spaced path\n",
        "x_int = np.interp(r_int, r, x)       # integrate path\n",
        "y_int = np.interp(r_int, r, y)"
      ],
      "metadata": {
        "id": "SboxQq8Ik9oB"
      },
      "execution_count": 26,
      "outputs": []
    },
    {
      "cell_type": "code",
      "source": [
        "\n",
        "X = np.asarray([[1.0, 0.0, 3.0, 8.0],\n",
        "                [2.0, 0.0, 1.0, 1.0],\n",
        "                [1.5, 2.5, 1.0, 0.0]])\n",
        "n = 4\n",
        "M = np.logical_and.reduce(np.mod(X, 1) == 0, axis=-1)\n",
        "M &= (X.sum(axis=-1) == n)\n",
        "print(X[M])"
      ],
      "metadata": {
        "colab": {
          "base_uri": "https://localhost:8080/"
        },
        "id": "qv9T6qtPnHG2",
        "outputId": "08e6a747-b4a5-48ea-f4b3-67fee3daf18a"
      },
      "execution_count": 27,
      "outputs": [
        {
          "output_type": "stream",
          "name": "stdout",
          "text": [
            "[[2. 0. 1. 1.]]\n"
          ]
        }
      ]
    },
    {
      "cell_type": "code",
      "source": [
        "X = np.random.randn(100) # random 1D array\n",
        "N = 1000 # number of bootstrap samples\n",
        "idx = np.random.randint(0, X.size, (N, X.size))\n",
        "means = X[idx].mean(axis=1)\n",
        "confint = np.percentile(means, [2.5, 97.5])\n",
        "print(confint)"
      ],
      "metadata": {
        "colab": {
          "base_uri": "https://localhost:8080/"
        },
        "id": "LZ4nEBaUna3K",
        "outputId": "bf1f3f0b-f840-40e5-eb0f-c6103088bcc1"
      },
      "execution_count": 28,
      "outputs": [
        {
          "output_type": "stream",
          "name": "stdout",
          "text": [
            "[-0.11549649  0.30555391]\n"
          ]
        }
      ]
    }
  ]
}